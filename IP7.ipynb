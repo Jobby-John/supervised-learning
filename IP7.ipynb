{
  "nbformat": 4,
  "nbformat_minor": 0,
  "metadata": {
    "colab": {
      "name": "IP7.ipynb",
      "provenance": [],
      "collapsed_sections": [],
      "authorship_tag": "ABX9TyOBEI997SyC3h94SPa+qyyu",
      "include_colab_link": true
    },
    "kernelspec": {
      "name": "python3",
      "display_name": "Python 3"
    },
    "language_info": {
      "name": "python"
    }
  },
  "cells": [
    {
      "cell_type": "markdown",
      "metadata": {
        "id": "view-in-github",
        "colab_type": "text"
      },
      "source": [
        "<a href=\"https://colab.research.google.com/github/Jobby-John/supervised-learning/blob/main/IP7.ipynb\" target=\"_parent\"><img src=\"https://colab.research.google.com/assets/colab-badge.svg\" alt=\"Open In Colab\"/></a>"
      ]
    },
    {
      "cell_type": "markdown",
      "metadata": {
        "id": "8HPGOFl4mdMO"
      },
      "source": [
        "**PROBLEM STATEMENT**\n",
        "As a Data Scientist, you work for Hass Consulting Company which is a real estate leader with over 25 years of experience. You have been tasked to study the factors that affect housing prices using the given information on real estate properties that was collected over the past few months. Later onwards, create a model that would allow the company to accurately predict the sale of prices upon being provided with the predictor variables"
      ]
    },
    {
      "cell_type": "markdown",
      "metadata": {
        "id": "i4p8qd2UmrDU"
      },
      "source": [
        "METRIC OF SUCCESS\n",
        "The success of this project relies on how accurate the models created can predict the cost of a house using the independent variables provided in the case study"
      ]
    },
    {
      "cell_type": "markdown",
      "metadata": {
        "id": "dw6DcdexrkYA"
      },
      "source": [
        "ASSUMPTIONS\n",
        "We are looking the prices of the houses in 2020\n",
        "Our dependent data will be the house price\n",
        "Independent variables in our dataset will be\n",
        "*Number of Bedrooms\n",
        "*Number of Bathrooms\n",
        "*The Square feet area of living area\n",
        "*The Square feet area of parking Layout\n",
        "*The Number of Floors\n",
        "*Whether waterfront is there or not\n",
        "*The Grade of the house\n",
        "*The sqft_above\n",
        "*The Square feet area off basement\n",
        "*The age of the house\n",
        "*sqft_living15\n",
        "*sqft_lot15"
      ]
    },
    {
      "cell_type": "code",
      "metadata": {
        "id": "XsrJPk3zmaV9"
      },
      "source": [
        "# Importing our libraries\n",
        "# \n",
        "import numpy as np\n",
        "import pandas as pd\n",
        "from sklearn.model_selection import GridSearchCV\n",
        "from sklearn.linear_model import Ridge\n",
        "from sklearn.linear_model import LinearRegression\n",
        "from sklearn.metrics import mean_squared_error\n",
        "import seaborn as sns\n",
        "from sklearn.linear_model import Lasso\n",
        "from sklearn.datasets import load_boston\n",
        "from sklearn.preprocessing import StandardScaler\n",
        "from sklearn import linear_model\n",
        "from sklearn.model_selection import train_test_split\n",
        "from sklearn.model_selection import GridSearchCV\n",
        "from sklearn.linear_model import ElasticNet\n",
        "import warnings"
      ],
      "execution_count": 1,
      "outputs": []
    },
    {
      "cell_type": "code",
      "metadata": {
        "colab": {
          "base_uri": "https://localhost:8080/",
          "height": 226
        },
        "id": "uRKM2G5EhZSt",
        "outputId": "96d053b0-ca16-4c63-9dfb-95165cbce3b2"
      },
      "source": [
        "#importing the file for analysis\n",
        "df=pd.read_csv('df.csv')\n",
        "df.head(5)"
      ],
      "execution_count": 2,
      "outputs": [
        {
          "output_type": "execute_result",
          "data": {
            "text/html": [
              "<div>\n",
              "<style scoped>\n",
              "    .dataframe tbody tr th:only-of-type {\n",
              "        vertical-align: middle;\n",
              "    }\n",
              "\n",
              "    .dataframe tbody tr th {\n",
              "        vertical-align: top;\n",
              "    }\n",
              "\n",
              "    .dataframe thead th {\n",
              "        text-align: right;\n",
              "    }\n",
              "</style>\n",
              "<table border=\"1\" class=\"dataframe\">\n",
              "  <thead>\n",
              "    <tr style=\"text-align: right;\">\n",
              "      <th></th>\n",
              "      <th>id</th>\n",
              "      <th>price</th>\n",
              "      <th>bedrooms</th>\n",
              "      <th>bathrooms</th>\n",
              "      <th>sqft_living</th>\n",
              "      <th>sqft_lot</th>\n",
              "      <th>floors</th>\n",
              "      <th>waterfront</th>\n",
              "      <th>view</th>\n",
              "      <th>condition</th>\n",
              "      <th>grade</th>\n",
              "      <th>sqft_above</th>\n",
              "      <th>sqft_basement</th>\n",
              "      <th>yr_built</th>\n",
              "      <th>yr_renovated</th>\n",
              "      <th>zipcode</th>\n",
              "      <th>lat</th>\n",
              "      <th>long</th>\n",
              "      <th>sqft_living15</th>\n",
              "      <th>sqft_lot15</th>\n",
              "    </tr>\n",
              "  </thead>\n",
              "  <tbody>\n",
              "    <tr>\n",
              "      <th>0</th>\n",
              "      <td>7129300520</td>\n",
              "      <td>221900.0</td>\n",
              "      <td>3</td>\n",
              "      <td>1.00</td>\n",
              "      <td>1180</td>\n",
              "      <td>5650</td>\n",
              "      <td>1.0</td>\n",
              "      <td>0</td>\n",
              "      <td>0</td>\n",
              "      <td>3</td>\n",
              "      <td>7</td>\n",
              "      <td>1180</td>\n",
              "      <td>0</td>\n",
              "      <td>1955</td>\n",
              "      <td>0</td>\n",
              "      <td>98178</td>\n",
              "      <td>47.5112</td>\n",
              "      <td>-122.257</td>\n",
              "      <td>1340</td>\n",
              "      <td>5650</td>\n",
              "    </tr>\n",
              "    <tr>\n",
              "      <th>1</th>\n",
              "      <td>6414100192</td>\n",
              "      <td>538000.0</td>\n",
              "      <td>3</td>\n",
              "      <td>2.25</td>\n",
              "      <td>2570</td>\n",
              "      <td>7242</td>\n",
              "      <td>2.0</td>\n",
              "      <td>0</td>\n",
              "      <td>0</td>\n",
              "      <td>3</td>\n",
              "      <td>7</td>\n",
              "      <td>2170</td>\n",
              "      <td>400</td>\n",
              "      <td>1951</td>\n",
              "      <td>1991</td>\n",
              "      <td>98125</td>\n",
              "      <td>47.7210</td>\n",
              "      <td>-122.319</td>\n",
              "      <td>1690</td>\n",
              "      <td>7639</td>\n",
              "    </tr>\n",
              "    <tr>\n",
              "      <th>2</th>\n",
              "      <td>5631500400</td>\n",
              "      <td>180000.0</td>\n",
              "      <td>2</td>\n",
              "      <td>1.00</td>\n",
              "      <td>770</td>\n",
              "      <td>10000</td>\n",
              "      <td>1.0</td>\n",
              "      <td>0</td>\n",
              "      <td>0</td>\n",
              "      <td>3</td>\n",
              "      <td>6</td>\n",
              "      <td>770</td>\n",
              "      <td>0</td>\n",
              "      <td>1933</td>\n",
              "      <td>0</td>\n",
              "      <td>98028</td>\n",
              "      <td>47.7379</td>\n",
              "      <td>-122.233</td>\n",
              "      <td>2720</td>\n",
              "      <td>8062</td>\n",
              "    </tr>\n",
              "    <tr>\n",
              "      <th>3</th>\n",
              "      <td>2487200875</td>\n",
              "      <td>604000.0</td>\n",
              "      <td>4</td>\n",
              "      <td>3.00</td>\n",
              "      <td>1960</td>\n",
              "      <td>5000</td>\n",
              "      <td>1.0</td>\n",
              "      <td>0</td>\n",
              "      <td>0</td>\n",
              "      <td>5</td>\n",
              "      <td>7</td>\n",
              "      <td>1050</td>\n",
              "      <td>910</td>\n",
              "      <td>1965</td>\n",
              "      <td>0</td>\n",
              "      <td>98136</td>\n",
              "      <td>47.5208</td>\n",
              "      <td>-122.393</td>\n",
              "      <td>1360</td>\n",
              "      <td>5000</td>\n",
              "    </tr>\n",
              "    <tr>\n",
              "      <th>4</th>\n",
              "      <td>1954400510</td>\n",
              "      <td>510000.0</td>\n",
              "      <td>3</td>\n",
              "      <td>2.00</td>\n",
              "      <td>1680</td>\n",
              "      <td>8080</td>\n",
              "      <td>1.0</td>\n",
              "      <td>0</td>\n",
              "      <td>0</td>\n",
              "      <td>3</td>\n",
              "      <td>8</td>\n",
              "      <td>1680</td>\n",
              "      <td>0</td>\n",
              "      <td>1987</td>\n",
              "      <td>0</td>\n",
              "      <td>98074</td>\n",
              "      <td>47.6168</td>\n",
              "      <td>-122.045</td>\n",
              "      <td>1800</td>\n",
              "      <td>7503</td>\n",
              "    </tr>\n",
              "  </tbody>\n",
              "</table>\n",
              "</div>"
            ],
            "text/plain": [
              "           id     price  bedrooms  ...     long  sqft_living15  sqft_lot15\n",
              "0  7129300520  221900.0         3  ... -122.257           1340        5650\n",
              "1  6414100192  538000.0         3  ... -122.319           1690        7639\n",
              "2  5631500400  180000.0         2  ... -122.233           2720        8062\n",
              "3  2487200875  604000.0         4  ... -122.393           1360        5000\n",
              "4  1954400510  510000.0         3  ... -122.045           1800        7503\n",
              "\n",
              "[5 rows x 20 columns]"
            ]
          },
          "metadata": {
            "tags": []
          },
          "execution_count": 2
        }
      ]
    },
    {
      "cell_type": "markdown",
      "metadata": {
        "id": "XPGGEUFlinUP"
      },
      "source": [
        "Checking our data details"
      ]
    },
    {
      "cell_type": "code",
      "metadata": {
        "colab": {
          "base_uri": "https://localhost:8080/",
          "height": 383
        },
        "id": "M1QaQw6Niq2F",
        "outputId": "d86621f2-4e61-41eb-fabb-a5071170173b"
      },
      "source": [
        "df.head(10)"
      ],
      "execution_count": 3,
      "outputs": [
        {
          "output_type": "execute_result",
          "data": {
            "text/html": [
              "<div>\n",
              "<style scoped>\n",
              "    .dataframe tbody tr th:only-of-type {\n",
              "        vertical-align: middle;\n",
              "    }\n",
              "\n",
              "    .dataframe tbody tr th {\n",
              "        vertical-align: top;\n",
              "    }\n",
              "\n",
              "    .dataframe thead th {\n",
              "        text-align: right;\n",
              "    }\n",
              "</style>\n",
              "<table border=\"1\" class=\"dataframe\">\n",
              "  <thead>\n",
              "    <tr style=\"text-align: right;\">\n",
              "      <th></th>\n",
              "      <th>id</th>\n",
              "      <th>price</th>\n",
              "      <th>bedrooms</th>\n",
              "      <th>bathrooms</th>\n",
              "      <th>sqft_living</th>\n",
              "      <th>sqft_lot</th>\n",
              "      <th>floors</th>\n",
              "      <th>waterfront</th>\n",
              "      <th>view</th>\n",
              "      <th>condition</th>\n",
              "      <th>grade</th>\n",
              "      <th>sqft_above</th>\n",
              "      <th>sqft_basement</th>\n",
              "      <th>yr_built</th>\n",
              "      <th>yr_renovated</th>\n",
              "      <th>zipcode</th>\n",
              "      <th>lat</th>\n",
              "      <th>long</th>\n",
              "      <th>sqft_living15</th>\n",
              "      <th>sqft_lot15</th>\n",
              "    </tr>\n",
              "  </thead>\n",
              "  <tbody>\n",
              "    <tr>\n",
              "      <th>0</th>\n",
              "      <td>7129300520</td>\n",
              "      <td>221900.0</td>\n",
              "      <td>3</td>\n",
              "      <td>1.00</td>\n",
              "      <td>1180</td>\n",
              "      <td>5650</td>\n",
              "      <td>1.0</td>\n",
              "      <td>0</td>\n",
              "      <td>0</td>\n",
              "      <td>3</td>\n",
              "      <td>7</td>\n",
              "      <td>1180</td>\n",
              "      <td>0</td>\n",
              "      <td>1955</td>\n",
              "      <td>0</td>\n",
              "      <td>98178</td>\n",
              "      <td>47.5112</td>\n",
              "      <td>-122.257</td>\n",
              "      <td>1340</td>\n",
              "      <td>5650</td>\n",
              "    </tr>\n",
              "    <tr>\n",
              "      <th>1</th>\n",
              "      <td>6414100192</td>\n",
              "      <td>538000.0</td>\n",
              "      <td>3</td>\n",
              "      <td>2.25</td>\n",
              "      <td>2570</td>\n",
              "      <td>7242</td>\n",
              "      <td>2.0</td>\n",
              "      <td>0</td>\n",
              "      <td>0</td>\n",
              "      <td>3</td>\n",
              "      <td>7</td>\n",
              "      <td>2170</td>\n",
              "      <td>400</td>\n",
              "      <td>1951</td>\n",
              "      <td>1991</td>\n",
              "      <td>98125</td>\n",
              "      <td>47.7210</td>\n",
              "      <td>-122.319</td>\n",
              "      <td>1690</td>\n",
              "      <td>7639</td>\n",
              "    </tr>\n",
              "    <tr>\n",
              "      <th>2</th>\n",
              "      <td>5631500400</td>\n",
              "      <td>180000.0</td>\n",
              "      <td>2</td>\n",
              "      <td>1.00</td>\n",
              "      <td>770</td>\n",
              "      <td>10000</td>\n",
              "      <td>1.0</td>\n",
              "      <td>0</td>\n",
              "      <td>0</td>\n",
              "      <td>3</td>\n",
              "      <td>6</td>\n",
              "      <td>770</td>\n",
              "      <td>0</td>\n",
              "      <td>1933</td>\n",
              "      <td>0</td>\n",
              "      <td>98028</td>\n",
              "      <td>47.7379</td>\n",
              "      <td>-122.233</td>\n",
              "      <td>2720</td>\n",
              "      <td>8062</td>\n",
              "    </tr>\n",
              "    <tr>\n",
              "      <th>3</th>\n",
              "      <td>2487200875</td>\n",
              "      <td>604000.0</td>\n",
              "      <td>4</td>\n",
              "      <td>3.00</td>\n",
              "      <td>1960</td>\n",
              "      <td>5000</td>\n",
              "      <td>1.0</td>\n",
              "      <td>0</td>\n",
              "      <td>0</td>\n",
              "      <td>5</td>\n",
              "      <td>7</td>\n",
              "      <td>1050</td>\n",
              "      <td>910</td>\n",
              "      <td>1965</td>\n",
              "      <td>0</td>\n",
              "      <td>98136</td>\n",
              "      <td>47.5208</td>\n",
              "      <td>-122.393</td>\n",
              "      <td>1360</td>\n",
              "      <td>5000</td>\n",
              "    </tr>\n",
              "    <tr>\n",
              "      <th>4</th>\n",
              "      <td>1954400510</td>\n",
              "      <td>510000.0</td>\n",
              "      <td>3</td>\n",
              "      <td>2.00</td>\n",
              "      <td>1680</td>\n",
              "      <td>8080</td>\n",
              "      <td>1.0</td>\n",
              "      <td>0</td>\n",
              "      <td>0</td>\n",
              "      <td>3</td>\n",
              "      <td>8</td>\n",
              "      <td>1680</td>\n",
              "      <td>0</td>\n",
              "      <td>1987</td>\n",
              "      <td>0</td>\n",
              "      <td>98074</td>\n",
              "      <td>47.6168</td>\n",
              "      <td>-122.045</td>\n",
              "      <td>1800</td>\n",
              "      <td>7503</td>\n",
              "    </tr>\n",
              "    <tr>\n",
              "      <th>5</th>\n",
              "      <td>7237550310</td>\n",
              "      <td>1230000.0</td>\n",
              "      <td>4</td>\n",
              "      <td>4.50</td>\n",
              "      <td>5420</td>\n",
              "      <td>101930</td>\n",
              "      <td>1.0</td>\n",
              "      <td>0</td>\n",
              "      <td>0</td>\n",
              "      <td>3</td>\n",
              "      <td>11</td>\n",
              "      <td>3890</td>\n",
              "      <td>1530</td>\n",
              "      <td>2001</td>\n",
              "      <td>0</td>\n",
              "      <td>98053</td>\n",
              "      <td>47.6561</td>\n",
              "      <td>-122.005</td>\n",
              "      <td>4760</td>\n",
              "      <td>101930</td>\n",
              "    </tr>\n",
              "    <tr>\n",
              "      <th>6</th>\n",
              "      <td>1321400060</td>\n",
              "      <td>257500.0</td>\n",
              "      <td>3</td>\n",
              "      <td>2.25</td>\n",
              "      <td>1715</td>\n",
              "      <td>6819</td>\n",
              "      <td>2.0</td>\n",
              "      <td>0</td>\n",
              "      <td>0</td>\n",
              "      <td>3</td>\n",
              "      <td>7</td>\n",
              "      <td>1715</td>\n",
              "      <td>0</td>\n",
              "      <td>1995</td>\n",
              "      <td>0</td>\n",
              "      <td>98003</td>\n",
              "      <td>47.3097</td>\n",
              "      <td>-122.327</td>\n",
              "      <td>2238</td>\n",
              "      <td>6819</td>\n",
              "    </tr>\n",
              "    <tr>\n",
              "      <th>7</th>\n",
              "      <td>2008000270</td>\n",
              "      <td>291850.0</td>\n",
              "      <td>3</td>\n",
              "      <td>1.50</td>\n",
              "      <td>1060</td>\n",
              "      <td>9711</td>\n",
              "      <td>1.0</td>\n",
              "      <td>0</td>\n",
              "      <td>0</td>\n",
              "      <td>3</td>\n",
              "      <td>7</td>\n",
              "      <td>1060</td>\n",
              "      <td>0</td>\n",
              "      <td>1963</td>\n",
              "      <td>0</td>\n",
              "      <td>98198</td>\n",
              "      <td>47.4095</td>\n",
              "      <td>-122.315</td>\n",
              "      <td>1650</td>\n",
              "      <td>9711</td>\n",
              "    </tr>\n",
              "    <tr>\n",
              "      <th>8</th>\n",
              "      <td>2414600126</td>\n",
              "      <td>229500.0</td>\n",
              "      <td>3</td>\n",
              "      <td>1.00</td>\n",
              "      <td>1780</td>\n",
              "      <td>7470</td>\n",
              "      <td>1.0</td>\n",
              "      <td>0</td>\n",
              "      <td>0</td>\n",
              "      <td>3</td>\n",
              "      <td>7</td>\n",
              "      <td>1050</td>\n",
              "      <td>730</td>\n",
              "      <td>1960</td>\n",
              "      <td>0</td>\n",
              "      <td>98146</td>\n",
              "      <td>47.5123</td>\n",
              "      <td>-122.337</td>\n",
              "      <td>1780</td>\n",
              "      <td>8113</td>\n",
              "    </tr>\n",
              "    <tr>\n",
              "      <th>9</th>\n",
              "      <td>3793500160</td>\n",
              "      <td>323000.0</td>\n",
              "      <td>3</td>\n",
              "      <td>2.50</td>\n",
              "      <td>1890</td>\n",
              "      <td>6560</td>\n",
              "      <td>2.0</td>\n",
              "      <td>0</td>\n",
              "      <td>0</td>\n",
              "      <td>3</td>\n",
              "      <td>7</td>\n",
              "      <td>1890</td>\n",
              "      <td>0</td>\n",
              "      <td>2003</td>\n",
              "      <td>0</td>\n",
              "      <td>98038</td>\n",
              "      <td>47.3684</td>\n",
              "      <td>-122.031</td>\n",
              "      <td>2390</td>\n",
              "      <td>7570</td>\n",
              "    </tr>\n",
              "  </tbody>\n",
              "</table>\n",
              "</div>"
            ],
            "text/plain": [
              "           id      price  bedrooms  ...     long  sqft_living15  sqft_lot15\n",
              "0  7129300520   221900.0         3  ... -122.257           1340        5650\n",
              "1  6414100192   538000.0         3  ... -122.319           1690        7639\n",
              "2  5631500400   180000.0         2  ... -122.233           2720        8062\n",
              "3  2487200875   604000.0         4  ... -122.393           1360        5000\n",
              "4  1954400510   510000.0         3  ... -122.045           1800        7503\n",
              "5  7237550310  1230000.0         4  ... -122.005           4760      101930\n",
              "6  1321400060   257500.0         3  ... -122.327           2238        6819\n",
              "7  2008000270   291850.0         3  ... -122.315           1650        9711\n",
              "8  2414600126   229500.0         3  ... -122.337           1780        8113\n",
              "9  3793500160   323000.0         3  ... -122.031           2390        7570\n",
              "\n",
              "[10 rows x 20 columns]"
            ]
          },
          "metadata": {
            "tags": []
          },
          "execution_count": 3
        }
      ]
    },
    {
      "cell_type": "code",
      "metadata": {
        "colab": {
          "base_uri": "https://localhost:8080/"
        },
        "id": "wSOmIPRCiuTo",
        "outputId": "99c585fe-c10d-4106-a9e0-51c4791d36fd"
      },
      "source": [
        "df.columns"
      ],
      "execution_count": 4,
      "outputs": [
        {
          "output_type": "execute_result",
          "data": {
            "text/plain": [
              "Index(['id', 'price', 'bedrooms', 'bathrooms', 'sqft_living', 'sqft_lot',\n",
              "       'floors', 'waterfront', 'view', 'condition', 'grade', 'sqft_above',\n",
              "       'sqft_basement', 'yr_built', 'yr_renovated', 'zipcode', 'lat', 'long',\n",
              "       'sqft_living15', 'sqft_lot15'],\n",
              "      dtype='object')"
            ]
          },
          "metadata": {
            "tags": []
          },
          "execution_count": 4
        }
      ]
    },
    {
      "cell_type": "code",
      "metadata": {
        "colab": {
          "base_uri": "https://localhost:8080/"
        },
        "id": "aOhkVYb7ixuQ",
        "outputId": "a2a5f56b-9967-4bda-8b97-5e141a04bda8"
      },
      "source": [
        "df.describe"
      ],
      "execution_count": 5,
      "outputs": [
        {
          "output_type": "execute_result",
          "data": {
            "text/plain": [
              "<bound method NDFrame.describe of                id     price  bedrooms  ...     long  sqft_living15  sqft_lot15\n",
              "0      7129300520  221900.0         3  ... -122.257           1340        5650\n",
              "1      6414100192  538000.0         3  ... -122.319           1690        7639\n",
              "2      5631500400  180000.0         2  ... -122.233           2720        8062\n",
              "3      2487200875  604000.0         4  ... -122.393           1360        5000\n",
              "4      1954400510  510000.0         3  ... -122.045           1800        7503\n",
              "...           ...       ...       ...  ...      ...            ...         ...\n",
              "21608   263000018  360000.0         3  ... -122.346           1530        1509\n",
              "21609  6600060120  400000.0         4  ... -122.362           1830        7200\n",
              "21610  1523300141  402101.0         2  ... -122.299           1020        2007\n",
              "21611   291310100  400000.0         3  ... -122.069           1410        1287\n",
              "21612  1523300157  325000.0         2  ... -122.299           1020        1357\n",
              "\n",
              "[21613 rows x 20 columns]>"
            ]
          },
          "metadata": {
            "tags": []
          },
          "execution_count": 5
        }
      ]
    },
    {
      "cell_type": "code",
      "metadata": {
        "colab": {
          "base_uri": "https://localhost:8080/",
          "height": 226
        },
        "id": "Nmb7jXIKi2kc",
        "outputId": "556b3232-0b23-4aa0-b96f-7ea15c0c4905"
      },
      "source": [
        "df.tail(5)"
      ],
      "execution_count": 6,
      "outputs": [
        {
          "output_type": "execute_result",
          "data": {
            "text/html": [
              "<div>\n",
              "<style scoped>\n",
              "    .dataframe tbody tr th:only-of-type {\n",
              "        vertical-align: middle;\n",
              "    }\n",
              "\n",
              "    .dataframe tbody tr th {\n",
              "        vertical-align: top;\n",
              "    }\n",
              "\n",
              "    .dataframe thead th {\n",
              "        text-align: right;\n",
              "    }\n",
              "</style>\n",
              "<table border=\"1\" class=\"dataframe\">\n",
              "  <thead>\n",
              "    <tr style=\"text-align: right;\">\n",
              "      <th></th>\n",
              "      <th>id</th>\n",
              "      <th>price</th>\n",
              "      <th>bedrooms</th>\n",
              "      <th>bathrooms</th>\n",
              "      <th>sqft_living</th>\n",
              "      <th>sqft_lot</th>\n",
              "      <th>floors</th>\n",
              "      <th>waterfront</th>\n",
              "      <th>view</th>\n",
              "      <th>condition</th>\n",
              "      <th>grade</th>\n",
              "      <th>sqft_above</th>\n",
              "      <th>sqft_basement</th>\n",
              "      <th>yr_built</th>\n",
              "      <th>yr_renovated</th>\n",
              "      <th>zipcode</th>\n",
              "      <th>lat</th>\n",
              "      <th>long</th>\n",
              "      <th>sqft_living15</th>\n",
              "      <th>sqft_lot15</th>\n",
              "    </tr>\n",
              "  </thead>\n",
              "  <tbody>\n",
              "    <tr>\n",
              "      <th>21608</th>\n",
              "      <td>263000018</td>\n",
              "      <td>360000.0</td>\n",
              "      <td>3</td>\n",
              "      <td>2.50</td>\n",
              "      <td>1530</td>\n",
              "      <td>1131</td>\n",
              "      <td>3.0</td>\n",
              "      <td>0</td>\n",
              "      <td>0</td>\n",
              "      <td>3</td>\n",
              "      <td>8</td>\n",
              "      <td>1530</td>\n",
              "      <td>0</td>\n",
              "      <td>2009</td>\n",
              "      <td>0</td>\n",
              "      <td>98103</td>\n",
              "      <td>47.6993</td>\n",
              "      <td>-122.346</td>\n",
              "      <td>1530</td>\n",
              "      <td>1509</td>\n",
              "    </tr>\n",
              "    <tr>\n",
              "      <th>21609</th>\n",
              "      <td>6600060120</td>\n",
              "      <td>400000.0</td>\n",
              "      <td>4</td>\n",
              "      <td>2.50</td>\n",
              "      <td>2310</td>\n",
              "      <td>5813</td>\n",
              "      <td>2.0</td>\n",
              "      <td>0</td>\n",
              "      <td>0</td>\n",
              "      <td>3</td>\n",
              "      <td>8</td>\n",
              "      <td>2310</td>\n",
              "      <td>0</td>\n",
              "      <td>2014</td>\n",
              "      <td>0</td>\n",
              "      <td>98146</td>\n",
              "      <td>47.5107</td>\n",
              "      <td>-122.362</td>\n",
              "      <td>1830</td>\n",
              "      <td>7200</td>\n",
              "    </tr>\n",
              "    <tr>\n",
              "      <th>21610</th>\n",
              "      <td>1523300141</td>\n",
              "      <td>402101.0</td>\n",
              "      <td>2</td>\n",
              "      <td>0.75</td>\n",
              "      <td>1020</td>\n",
              "      <td>1350</td>\n",
              "      <td>2.0</td>\n",
              "      <td>0</td>\n",
              "      <td>0</td>\n",
              "      <td>3</td>\n",
              "      <td>7</td>\n",
              "      <td>1020</td>\n",
              "      <td>0</td>\n",
              "      <td>2009</td>\n",
              "      <td>0</td>\n",
              "      <td>98144</td>\n",
              "      <td>47.5944</td>\n",
              "      <td>-122.299</td>\n",
              "      <td>1020</td>\n",
              "      <td>2007</td>\n",
              "    </tr>\n",
              "    <tr>\n",
              "      <th>21611</th>\n",
              "      <td>291310100</td>\n",
              "      <td>400000.0</td>\n",
              "      <td>3</td>\n",
              "      <td>2.50</td>\n",
              "      <td>1600</td>\n",
              "      <td>2388</td>\n",
              "      <td>2.0</td>\n",
              "      <td>0</td>\n",
              "      <td>0</td>\n",
              "      <td>3</td>\n",
              "      <td>8</td>\n",
              "      <td>1600</td>\n",
              "      <td>0</td>\n",
              "      <td>2004</td>\n",
              "      <td>0</td>\n",
              "      <td>98027</td>\n",
              "      <td>47.5345</td>\n",
              "      <td>-122.069</td>\n",
              "      <td>1410</td>\n",
              "      <td>1287</td>\n",
              "    </tr>\n",
              "    <tr>\n",
              "      <th>21612</th>\n",
              "      <td>1523300157</td>\n",
              "      <td>325000.0</td>\n",
              "      <td>2</td>\n",
              "      <td>0.75</td>\n",
              "      <td>1020</td>\n",
              "      <td>1076</td>\n",
              "      <td>2.0</td>\n",
              "      <td>0</td>\n",
              "      <td>0</td>\n",
              "      <td>3</td>\n",
              "      <td>7</td>\n",
              "      <td>1020</td>\n",
              "      <td>0</td>\n",
              "      <td>2008</td>\n",
              "      <td>0</td>\n",
              "      <td>98144</td>\n",
              "      <td>47.5941</td>\n",
              "      <td>-122.299</td>\n",
              "      <td>1020</td>\n",
              "      <td>1357</td>\n",
              "    </tr>\n",
              "  </tbody>\n",
              "</table>\n",
              "</div>"
            ],
            "text/plain": [
              "               id     price  bedrooms  ...     long  sqft_living15  sqft_lot15\n",
              "21608   263000018  360000.0         3  ... -122.346           1530        1509\n",
              "21609  6600060120  400000.0         4  ... -122.362           1830        7200\n",
              "21610  1523300141  402101.0         2  ... -122.299           1020        2007\n",
              "21611   291310100  400000.0         3  ... -122.069           1410        1287\n",
              "21612  1523300157  325000.0         2  ... -122.299           1020        1357\n",
              "\n",
              "[5 rows x 20 columns]"
            ]
          },
          "metadata": {
            "tags": []
          },
          "execution_count": 6
        }
      ]
    },
    {
      "cell_type": "code",
      "metadata": {
        "id": "avZhpH2ojAJG",
        "colab": {
          "base_uri": "https://localhost:8080/"
        },
        "outputId": "9b397648-a4bb-4ab9-875b-26d7bbaabfec"
      },
      "source": [
        "#checking for null values \n",
        "df.isnull"
      ],
      "execution_count": 7,
      "outputs": [
        {
          "output_type": "execute_result",
          "data": {
            "text/plain": [
              "<bound method DataFrame.isnull of                id     price  bedrooms  ...     long  sqft_living15  sqft_lot15\n",
              "0      7129300520  221900.0         3  ... -122.257           1340        5650\n",
              "1      6414100192  538000.0         3  ... -122.319           1690        7639\n",
              "2      5631500400  180000.0         2  ... -122.233           2720        8062\n",
              "3      2487200875  604000.0         4  ... -122.393           1360        5000\n",
              "4      1954400510  510000.0         3  ... -122.045           1800        7503\n",
              "...           ...       ...       ...  ...      ...            ...         ...\n",
              "21608   263000018  360000.0         3  ... -122.346           1530        1509\n",
              "21609  6600060120  400000.0         4  ... -122.362           1830        7200\n",
              "21610  1523300141  402101.0         2  ... -122.299           1020        2007\n",
              "21611   291310100  400000.0         3  ... -122.069           1410        1287\n",
              "21612  1523300157  325000.0         2  ... -122.299           1020        1357\n",
              "\n",
              "[21613 rows x 20 columns]>"
            ]
          },
          "metadata": {
            "tags": []
          },
          "execution_count": 7
        }
      ]
    },
    {
      "cell_type": "code",
      "metadata": {
        "id": "sExNv04BjXzW",
        "colab": {
          "base_uri": "https://localhost:8080/"
        },
        "outputId": "80263c0d-ff5c-4a38-a234-bbea0adf2e60"
      },
      "source": [
        "#checking for duplicates\n",
        "df.duplicated()"
      ],
      "execution_count": 8,
      "outputs": [
        {
          "output_type": "execute_result",
          "data": {
            "text/plain": [
              "0        False\n",
              "1        False\n",
              "2        False\n",
              "3        False\n",
              "4        False\n",
              "         ...  \n",
              "21608    False\n",
              "21609    False\n",
              "21610    False\n",
              "21611    False\n",
              "21612    False\n",
              "Length: 21613, dtype: bool"
            ]
          },
          "metadata": {
            "tags": []
          },
          "execution_count": 8
        }
      ]
    },
    {
      "cell_type": "markdown",
      "metadata": {
        "id": "d7aNnwwRjhAP"
      },
      "source": [
        "EDA "
      ]
    },
    {
      "cell_type": "code",
      "metadata": {
        "id": "yqi5cHXEjmRz"
      },
      "source": [
        "#The first step will be to drop all the columns that do not add value in our dataset\n",
        "# some of these columns include id,view,latitude,longitude,zipcode\n",
        "df=df.drop(columns=['yr_renovated','id','view','zipcode','lat','long'])"
      ],
      "execution_count": 9,
      "outputs": []
    },
    {
      "cell_type": "code",
      "metadata": {
        "id": "JJUYp6t4rEz5",
        "colab": {
          "base_uri": "https://localhost:8080/",
          "height": 226
        },
        "outputId": "1f47f358-f476-403d-8a15-72375e02925e"
      },
      "source": [
        "#we will create another column and we will make an assumption that we are selling the house in the year 2020\n",
        "#Thus we will create a new column age which will be made of 2020 substract the year the house was built\n",
        "df['age']=2020-df['yr_built']\n",
        "df.head(5)"
      ],
      "execution_count": 10,
      "outputs": [
        {
          "output_type": "execute_result",
          "data": {
            "text/html": [
              "<div>\n",
              "<style scoped>\n",
              "    .dataframe tbody tr th:only-of-type {\n",
              "        vertical-align: middle;\n",
              "    }\n",
              "\n",
              "    .dataframe tbody tr th {\n",
              "        vertical-align: top;\n",
              "    }\n",
              "\n",
              "    .dataframe thead th {\n",
              "        text-align: right;\n",
              "    }\n",
              "</style>\n",
              "<table border=\"1\" class=\"dataframe\">\n",
              "  <thead>\n",
              "    <tr style=\"text-align: right;\">\n",
              "      <th></th>\n",
              "      <th>price</th>\n",
              "      <th>bedrooms</th>\n",
              "      <th>bathrooms</th>\n",
              "      <th>sqft_living</th>\n",
              "      <th>sqft_lot</th>\n",
              "      <th>floors</th>\n",
              "      <th>waterfront</th>\n",
              "      <th>condition</th>\n",
              "      <th>grade</th>\n",
              "      <th>sqft_above</th>\n",
              "      <th>sqft_basement</th>\n",
              "      <th>yr_built</th>\n",
              "      <th>sqft_living15</th>\n",
              "      <th>sqft_lot15</th>\n",
              "      <th>age</th>\n",
              "    </tr>\n",
              "  </thead>\n",
              "  <tbody>\n",
              "    <tr>\n",
              "      <th>0</th>\n",
              "      <td>221900.0</td>\n",
              "      <td>3</td>\n",
              "      <td>1.00</td>\n",
              "      <td>1180</td>\n",
              "      <td>5650</td>\n",
              "      <td>1.0</td>\n",
              "      <td>0</td>\n",
              "      <td>3</td>\n",
              "      <td>7</td>\n",
              "      <td>1180</td>\n",
              "      <td>0</td>\n",
              "      <td>1955</td>\n",
              "      <td>1340</td>\n",
              "      <td>5650</td>\n",
              "      <td>65</td>\n",
              "    </tr>\n",
              "    <tr>\n",
              "      <th>1</th>\n",
              "      <td>538000.0</td>\n",
              "      <td>3</td>\n",
              "      <td>2.25</td>\n",
              "      <td>2570</td>\n",
              "      <td>7242</td>\n",
              "      <td>2.0</td>\n",
              "      <td>0</td>\n",
              "      <td>3</td>\n",
              "      <td>7</td>\n",
              "      <td>2170</td>\n",
              "      <td>400</td>\n",
              "      <td>1951</td>\n",
              "      <td>1690</td>\n",
              "      <td>7639</td>\n",
              "      <td>69</td>\n",
              "    </tr>\n",
              "    <tr>\n",
              "      <th>2</th>\n",
              "      <td>180000.0</td>\n",
              "      <td>2</td>\n",
              "      <td>1.00</td>\n",
              "      <td>770</td>\n",
              "      <td>10000</td>\n",
              "      <td>1.0</td>\n",
              "      <td>0</td>\n",
              "      <td>3</td>\n",
              "      <td>6</td>\n",
              "      <td>770</td>\n",
              "      <td>0</td>\n",
              "      <td>1933</td>\n",
              "      <td>2720</td>\n",
              "      <td>8062</td>\n",
              "      <td>87</td>\n",
              "    </tr>\n",
              "    <tr>\n",
              "      <th>3</th>\n",
              "      <td>604000.0</td>\n",
              "      <td>4</td>\n",
              "      <td>3.00</td>\n",
              "      <td>1960</td>\n",
              "      <td>5000</td>\n",
              "      <td>1.0</td>\n",
              "      <td>0</td>\n",
              "      <td>5</td>\n",
              "      <td>7</td>\n",
              "      <td>1050</td>\n",
              "      <td>910</td>\n",
              "      <td>1965</td>\n",
              "      <td>1360</td>\n",
              "      <td>5000</td>\n",
              "      <td>55</td>\n",
              "    </tr>\n",
              "    <tr>\n",
              "      <th>4</th>\n",
              "      <td>510000.0</td>\n",
              "      <td>3</td>\n",
              "      <td>2.00</td>\n",
              "      <td>1680</td>\n",
              "      <td>8080</td>\n",
              "      <td>1.0</td>\n",
              "      <td>0</td>\n",
              "      <td>3</td>\n",
              "      <td>8</td>\n",
              "      <td>1680</td>\n",
              "      <td>0</td>\n",
              "      <td>1987</td>\n",
              "      <td>1800</td>\n",
              "      <td>7503</td>\n",
              "      <td>33</td>\n",
              "    </tr>\n",
              "  </tbody>\n",
              "</table>\n",
              "</div>"
            ],
            "text/plain": [
              "      price  bedrooms  bathrooms  ...  sqft_living15  sqft_lot15  age\n",
              "0  221900.0         3       1.00  ...           1340        5650   65\n",
              "1  538000.0         3       2.25  ...           1690        7639   69\n",
              "2  180000.0         2       1.00  ...           2720        8062   87\n",
              "3  604000.0         4       3.00  ...           1360        5000   55\n",
              "4  510000.0         3       2.00  ...           1800        7503   33\n",
              "\n",
              "[5 rows x 15 columns]"
            ]
          },
          "metadata": {
            "tags": []
          },
          "execution_count": 10
        }
      ]
    },
    {
      "cell_type": "code",
      "metadata": {
        "id": "swE10j7as_8I"
      },
      "source": [
        "#After creating the column age we can go ahead and drop the column of year built\n",
        "df=df.drop(columns=['yr_built'])"
      ],
      "execution_count": 11,
      "outputs": []
    },
    {
      "cell_type": "code",
      "metadata": {
        "colab": {
          "base_uri": "https://localhost:8080/",
          "height": 226
        },
        "id": "Jom8caaWl3_7",
        "outputId": "53309260-9993-4882-f386-520872640dd0"
      },
      "source": [
        "df.head(5)"
      ],
      "execution_count": 12,
      "outputs": [
        {
          "output_type": "execute_result",
          "data": {
            "text/html": [
              "<div>\n",
              "<style scoped>\n",
              "    .dataframe tbody tr th:only-of-type {\n",
              "        vertical-align: middle;\n",
              "    }\n",
              "\n",
              "    .dataframe tbody tr th {\n",
              "        vertical-align: top;\n",
              "    }\n",
              "\n",
              "    .dataframe thead th {\n",
              "        text-align: right;\n",
              "    }\n",
              "</style>\n",
              "<table border=\"1\" class=\"dataframe\">\n",
              "  <thead>\n",
              "    <tr style=\"text-align: right;\">\n",
              "      <th></th>\n",
              "      <th>price</th>\n",
              "      <th>bedrooms</th>\n",
              "      <th>bathrooms</th>\n",
              "      <th>sqft_living</th>\n",
              "      <th>sqft_lot</th>\n",
              "      <th>floors</th>\n",
              "      <th>waterfront</th>\n",
              "      <th>condition</th>\n",
              "      <th>grade</th>\n",
              "      <th>sqft_above</th>\n",
              "      <th>sqft_basement</th>\n",
              "      <th>sqft_living15</th>\n",
              "      <th>sqft_lot15</th>\n",
              "      <th>age</th>\n",
              "    </tr>\n",
              "  </thead>\n",
              "  <tbody>\n",
              "    <tr>\n",
              "      <th>0</th>\n",
              "      <td>221900.0</td>\n",
              "      <td>3</td>\n",
              "      <td>1.00</td>\n",
              "      <td>1180</td>\n",
              "      <td>5650</td>\n",
              "      <td>1.0</td>\n",
              "      <td>0</td>\n",
              "      <td>3</td>\n",
              "      <td>7</td>\n",
              "      <td>1180</td>\n",
              "      <td>0</td>\n",
              "      <td>1340</td>\n",
              "      <td>5650</td>\n",
              "      <td>65</td>\n",
              "    </tr>\n",
              "    <tr>\n",
              "      <th>1</th>\n",
              "      <td>538000.0</td>\n",
              "      <td>3</td>\n",
              "      <td>2.25</td>\n",
              "      <td>2570</td>\n",
              "      <td>7242</td>\n",
              "      <td>2.0</td>\n",
              "      <td>0</td>\n",
              "      <td>3</td>\n",
              "      <td>7</td>\n",
              "      <td>2170</td>\n",
              "      <td>400</td>\n",
              "      <td>1690</td>\n",
              "      <td>7639</td>\n",
              "      <td>69</td>\n",
              "    </tr>\n",
              "    <tr>\n",
              "      <th>2</th>\n",
              "      <td>180000.0</td>\n",
              "      <td>2</td>\n",
              "      <td>1.00</td>\n",
              "      <td>770</td>\n",
              "      <td>10000</td>\n",
              "      <td>1.0</td>\n",
              "      <td>0</td>\n",
              "      <td>3</td>\n",
              "      <td>6</td>\n",
              "      <td>770</td>\n",
              "      <td>0</td>\n",
              "      <td>2720</td>\n",
              "      <td>8062</td>\n",
              "      <td>87</td>\n",
              "    </tr>\n",
              "    <tr>\n",
              "      <th>3</th>\n",
              "      <td>604000.0</td>\n",
              "      <td>4</td>\n",
              "      <td>3.00</td>\n",
              "      <td>1960</td>\n",
              "      <td>5000</td>\n",
              "      <td>1.0</td>\n",
              "      <td>0</td>\n",
              "      <td>5</td>\n",
              "      <td>7</td>\n",
              "      <td>1050</td>\n",
              "      <td>910</td>\n",
              "      <td>1360</td>\n",
              "      <td>5000</td>\n",
              "      <td>55</td>\n",
              "    </tr>\n",
              "    <tr>\n",
              "      <th>4</th>\n",
              "      <td>510000.0</td>\n",
              "      <td>3</td>\n",
              "      <td>2.00</td>\n",
              "      <td>1680</td>\n",
              "      <td>8080</td>\n",
              "      <td>1.0</td>\n",
              "      <td>0</td>\n",
              "      <td>3</td>\n",
              "      <td>8</td>\n",
              "      <td>1680</td>\n",
              "      <td>0</td>\n",
              "      <td>1800</td>\n",
              "      <td>7503</td>\n",
              "      <td>33</td>\n",
              "    </tr>\n",
              "  </tbody>\n",
              "</table>\n",
              "</div>"
            ],
            "text/plain": [
              "      price  bedrooms  bathrooms  ...  sqft_living15  sqft_lot15  age\n",
              "0  221900.0         3       1.00  ...           1340        5650   65\n",
              "1  538000.0         3       2.25  ...           1690        7639   69\n",
              "2  180000.0         2       1.00  ...           2720        8062   87\n",
              "3  604000.0         4       3.00  ...           1360        5000   55\n",
              "4  510000.0         3       2.00  ...           1800        7503   33\n",
              "\n",
              "[5 rows x 14 columns]"
            ]
          },
          "metadata": {
            "tags": []
          },
          "execution_count": 12
        }
      ]
    },
    {
      "cell_type": "code",
      "metadata": {
        "id": "dtvvOZMKnm82",
        "colab": {
          "base_uri": "https://localhost:8080/"
        },
        "outputId": "55dadedf-43a7-49ff-a03e-790018d65894"
      },
      "source": [
        "df.info()"
      ],
      "execution_count": 13,
      "outputs": [
        {
          "output_type": "stream",
          "text": [
            "<class 'pandas.core.frame.DataFrame'>\n",
            "RangeIndex: 21613 entries, 0 to 21612\n",
            "Data columns (total 14 columns):\n",
            " #   Column         Non-Null Count  Dtype  \n",
            "---  ------         --------------  -----  \n",
            " 0   price          21613 non-null  float64\n",
            " 1   bedrooms       21613 non-null  int64  \n",
            " 2   bathrooms      21613 non-null  float64\n",
            " 3   sqft_living    21613 non-null  int64  \n",
            " 4   sqft_lot       21613 non-null  int64  \n",
            " 5   floors         21613 non-null  float64\n",
            " 6   waterfront     21613 non-null  int64  \n",
            " 7   condition      21613 non-null  int64  \n",
            " 8   grade          21613 non-null  int64  \n",
            " 9   sqft_above     21613 non-null  int64  \n",
            " 10  sqft_basement  21613 non-null  int64  \n",
            " 11  sqft_living15  21613 non-null  int64  \n",
            " 12  sqft_lot15     21613 non-null  int64  \n",
            " 13  age            21613 non-null  int64  \n",
            "dtypes: float64(3), int64(11)\n",
            "memory usage: 2.3 MB\n"
          ],
          "name": "stdout"
        }
      ]
    },
    {
      "cell_type": "code",
      "metadata": {
        "colab": {
          "base_uri": "https://localhost:8080/"
        },
        "id": "-fGgrwYHoNcE",
        "outputId": "817c7232-d6f0-43cb-8770-0d136aec7ad0"
      },
      "source": [
        "#investigating missing values\n",
        "print(str('Is there any NaN value in the dataset: '), df.isnull().values.any())"
      ],
      "execution_count": 14,
      "outputs": [
        {
          "output_type": "stream",
          "text": [
            "Is there any NaN value in the dataset:  False\n"
          ],
          "name": "stdout"
        }
      ]
    },
    {
      "cell_type": "markdown",
      "metadata": {
        "id": "0AXNpkAgo2Ss"
      },
      "source": [
        "Checking the correlations of the variables\n"
      ]
    },
    {
      "cell_type": "code",
      "metadata": {
        "id": "77VDOLxgpNuz",
        "colab": {
          "base_uri": "https://localhost:8080/",
          "height": 509
        },
        "outputId": "cfa02ef8-d2f3-4bf1-8926-1598f2f1e38c"
      },
      "source": [
        "df.corr()"
      ],
      "execution_count": 15,
      "outputs": [
        {
          "output_type": "execute_result",
          "data": {
            "text/html": [
              "<div>\n",
              "<style scoped>\n",
              "    .dataframe tbody tr th:only-of-type {\n",
              "        vertical-align: middle;\n",
              "    }\n",
              "\n",
              "    .dataframe tbody tr th {\n",
              "        vertical-align: top;\n",
              "    }\n",
              "\n",
              "    .dataframe thead th {\n",
              "        text-align: right;\n",
              "    }\n",
              "</style>\n",
              "<table border=\"1\" class=\"dataframe\">\n",
              "  <thead>\n",
              "    <tr style=\"text-align: right;\">\n",
              "      <th></th>\n",
              "      <th>price</th>\n",
              "      <th>bedrooms</th>\n",
              "      <th>bathrooms</th>\n",
              "      <th>sqft_living</th>\n",
              "      <th>sqft_lot</th>\n",
              "      <th>floors</th>\n",
              "      <th>waterfront</th>\n",
              "      <th>condition</th>\n",
              "      <th>grade</th>\n",
              "      <th>sqft_above</th>\n",
              "      <th>sqft_basement</th>\n",
              "      <th>sqft_living15</th>\n",
              "      <th>sqft_lot15</th>\n",
              "      <th>age</th>\n",
              "    </tr>\n",
              "  </thead>\n",
              "  <tbody>\n",
              "    <tr>\n",
              "      <th>price</th>\n",
              "      <td>1.000000</td>\n",
              "      <td>0.308338</td>\n",
              "      <td>0.525134</td>\n",
              "      <td>0.702044</td>\n",
              "      <td>0.089655</td>\n",
              "      <td>0.256786</td>\n",
              "      <td>0.266331</td>\n",
              "      <td>0.036392</td>\n",
              "      <td>0.667463</td>\n",
              "      <td>0.605566</td>\n",
              "      <td>0.323837</td>\n",
              "      <td>0.585374</td>\n",
              "      <td>0.082456</td>\n",
              "      <td>-0.053982</td>\n",
              "    </tr>\n",
              "    <tr>\n",
              "      <th>bedrooms</th>\n",
              "      <td>0.308338</td>\n",
              "      <td>1.000000</td>\n",
              "      <td>0.515884</td>\n",
              "      <td>0.576671</td>\n",
              "      <td>0.031703</td>\n",
              "      <td>0.175429</td>\n",
              "      <td>-0.006582</td>\n",
              "      <td>0.028472</td>\n",
              "      <td>0.356967</td>\n",
              "      <td>0.477600</td>\n",
              "      <td>0.303093</td>\n",
              "      <td>0.391638</td>\n",
              "      <td>0.029244</td>\n",
              "      <td>-0.154178</td>\n",
              "    </tr>\n",
              "    <tr>\n",
              "      <th>bathrooms</th>\n",
              "      <td>0.525134</td>\n",
              "      <td>0.515884</td>\n",
              "      <td>1.000000</td>\n",
              "      <td>0.754665</td>\n",
              "      <td>0.087740</td>\n",
              "      <td>0.500653</td>\n",
              "      <td>0.063744</td>\n",
              "      <td>-0.124982</td>\n",
              "      <td>0.664983</td>\n",
              "      <td>0.685342</td>\n",
              "      <td>0.283770</td>\n",
              "      <td>0.568634</td>\n",
              "      <td>0.087175</td>\n",
              "      <td>-0.506019</td>\n",
              "    </tr>\n",
              "    <tr>\n",
              "      <th>sqft_living</th>\n",
              "      <td>0.702044</td>\n",
              "      <td>0.576671</td>\n",
              "      <td>0.754665</td>\n",
              "      <td>1.000000</td>\n",
              "      <td>0.172826</td>\n",
              "      <td>0.353949</td>\n",
              "      <td>0.103818</td>\n",
              "      <td>-0.058753</td>\n",
              "      <td>0.762704</td>\n",
              "      <td>0.876597</td>\n",
              "      <td>0.435043</td>\n",
              "      <td>0.756420</td>\n",
              "      <td>0.183286</td>\n",
              "      <td>-0.318049</td>\n",
              "    </tr>\n",
              "    <tr>\n",
              "      <th>sqft_lot</th>\n",
              "      <td>0.089655</td>\n",
              "      <td>0.031703</td>\n",
              "      <td>0.087740</td>\n",
              "      <td>0.172826</td>\n",
              "      <td>1.000000</td>\n",
              "      <td>-0.005201</td>\n",
              "      <td>0.021604</td>\n",
              "      <td>-0.008958</td>\n",
              "      <td>0.113621</td>\n",
              "      <td>0.183512</td>\n",
              "      <td>0.015286</td>\n",
              "      <td>0.144608</td>\n",
              "      <td>0.718557</td>\n",
              "      <td>-0.053080</td>\n",
              "    </tr>\n",
              "    <tr>\n",
              "      <th>floors</th>\n",
              "      <td>0.256786</td>\n",
              "      <td>0.175429</td>\n",
              "      <td>0.500653</td>\n",
              "      <td>0.353949</td>\n",
              "      <td>-0.005201</td>\n",
              "      <td>1.000000</td>\n",
              "      <td>0.023698</td>\n",
              "      <td>-0.263768</td>\n",
              "      <td>0.458183</td>\n",
              "      <td>0.523885</td>\n",
              "      <td>-0.245705</td>\n",
              "      <td>0.279885</td>\n",
              "      <td>-0.011269</td>\n",
              "      <td>-0.489319</td>\n",
              "    </tr>\n",
              "    <tr>\n",
              "      <th>waterfront</th>\n",
              "      <td>0.266331</td>\n",
              "      <td>-0.006582</td>\n",
              "      <td>0.063744</td>\n",
              "      <td>0.103818</td>\n",
              "      <td>0.021604</td>\n",
              "      <td>0.023698</td>\n",
              "      <td>1.000000</td>\n",
              "      <td>0.016653</td>\n",
              "      <td>0.082775</td>\n",
              "      <td>0.072075</td>\n",
              "      <td>0.080588</td>\n",
              "      <td>0.086463</td>\n",
              "      <td>0.030703</td>\n",
              "      <td>0.026161</td>\n",
              "    </tr>\n",
              "    <tr>\n",
              "      <th>condition</th>\n",
              "      <td>0.036392</td>\n",
              "      <td>0.028472</td>\n",
              "      <td>-0.124982</td>\n",
              "      <td>-0.058753</td>\n",
              "      <td>-0.008958</td>\n",
              "      <td>-0.263768</td>\n",
              "      <td>0.016653</td>\n",
              "      <td>1.000000</td>\n",
              "      <td>-0.144674</td>\n",
              "      <td>-0.158214</td>\n",
              "      <td>0.174105</td>\n",
              "      <td>-0.092824</td>\n",
              "      <td>-0.003406</td>\n",
              "      <td>0.361417</td>\n",
              "    </tr>\n",
              "    <tr>\n",
              "      <th>grade</th>\n",
              "      <td>0.667463</td>\n",
              "      <td>0.356967</td>\n",
              "      <td>0.664983</td>\n",
              "      <td>0.762704</td>\n",
              "      <td>0.113621</td>\n",
              "      <td>0.458183</td>\n",
              "      <td>0.082775</td>\n",
              "      <td>-0.144674</td>\n",
              "      <td>1.000000</td>\n",
              "      <td>0.755923</td>\n",
              "      <td>0.168392</td>\n",
              "      <td>0.713202</td>\n",
              "      <td>0.119248</td>\n",
              "      <td>-0.446963</td>\n",
              "    </tr>\n",
              "    <tr>\n",
              "      <th>sqft_above</th>\n",
              "      <td>0.605566</td>\n",
              "      <td>0.477600</td>\n",
              "      <td>0.685342</td>\n",
              "      <td>0.876597</td>\n",
              "      <td>0.183512</td>\n",
              "      <td>0.523885</td>\n",
              "      <td>0.072075</td>\n",
              "      <td>-0.158214</td>\n",
              "      <td>0.755923</td>\n",
              "      <td>1.000000</td>\n",
              "      <td>-0.051943</td>\n",
              "      <td>0.731870</td>\n",
              "      <td>0.194050</td>\n",
              "      <td>-0.423898</td>\n",
              "    </tr>\n",
              "    <tr>\n",
              "      <th>sqft_basement</th>\n",
              "      <td>0.323837</td>\n",
              "      <td>0.303093</td>\n",
              "      <td>0.283770</td>\n",
              "      <td>0.435043</td>\n",
              "      <td>0.015286</td>\n",
              "      <td>-0.245705</td>\n",
              "      <td>0.080588</td>\n",
              "      <td>0.174105</td>\n",
              "      <td>0.168392</td>\n",
              "      <td>-0.051943</td>\n",
              "      <td>1.000000</td>\n",
              "      <td>0.200355</td>\n",
              "      <td>0.017276</td>\n",
              "      <td>0.133124</td>\n",
              "    </tr>\n",
              "    <tr>\n",
              "      <th>sqft_living15</th>\n",
              "      <td>0.585374</td>\n",
              "      <td>0.391638</td>\n",
              "      <td>0.568634</td>\n",
              "      <td>0.756420</td>\n",
              "      <td>0.144608</td>\n",
              "      <td>0.279885</td>\n",
              "      <td>0.086463</td>\n",
              "      <td>-0.092824</td>\n",
              "      <td>0.713202</td>\n",
              "      <td>0.731870</td>\n",
              "      <td>0.200355</td>\n",
              "      <td>1.000000</td>\n",
              "      <td>0.183192</td>\n",
              "      <td>-0.326229</td>\n",
              "    </tr>\n",
              "    <tr>\n",
              "      <th>sqft_lot15</th>\n",
              "      <td>0.082456</td>\n",
              "      <td>0.029244</td>\n",
              "      <td>0.087175</td>\n",
              "      <td>0.183286</td>\n",
              "      <td>0.718557</td>\n",
              "      <td>-0.011269</td>\n",
              "      <td>0.030703</td>\n",
              "      <td>-0.003406</td>\n",
              "      <td>0.119248</td>\n",
              "      <td>0.194050</td>\n",
              "      <td>0.017276</td>\n",
              "      <td>0.183192</td>\n",
              "      <td>1.000000</td>\n",
              "      <td>-0.070958</td>\n",
              "    </tr>\n",
              "    <tr>\n",
              "      <th>age</th>\n",
              "      <td>-0.053982</td>\n",
              "      <td>-0.154178</td>\n",
              "      <td>-0.506019</td>\n",
              "      <td>-0.318049</td>\n",
              "      <td>-0.053080</td>\n",
              "      <td>-0.489319</td>\n",
              "      <td>0.026161</td>\n",
              "      <td>0.361417</td>\n",
              "      <td>-0.446963</td>\n",
              "      <td>-0.423898</td>\n",
              "      <td>0.133124</td>\n",
              "      <td>-0.326229</td>\n",
              "      <td>-0.070958</td>\n",
              "      <td>1.000000</td>\n",
              "    </tr>\n",
              "  </tbody>\n",
              "</table>\n",
              "</div>"
            ],
            "text/plain": [
              "                  price  bedrooms  ...  sqft_lot15       age\n",
              "price          1.000000  0.308338  ...    0.082456 -0.053982\n",
              "bedrooms       0.308338  1.000000  ...    0.029244 -0.154178\n",
              "bathrooms      0.525134  0.515884  ...    0.087175 -0.506019\n",
              "sqft_living    0.702044  0.576671  ...    0.183286 -0.318049\n",
              "sqft_lot       0.089655  0.031703  ...    0.718557 -0.053080\n",
              "floors         0.256786  0.175429  ...   -0.011269 -0.489319\n",
              "waterfront     0.266331 -0.006582  ...    0.030703  0.026161\n",
              "condition      0.036392  0.028472  ...   -0.003406  0.361417\n",
              "grade          0.667463  0.356967  ...    0.119248 -0.446963\n",
              "sqft_above     0.605566  0.477600  ...    0.194050 -0.423898\n",
              "sqft_basement  0.323837  0.303093  ...    0.017276  0.133124\n",
              "sqft_living15  0.585374  0.391638  ...    0.183192 -0.326229\n",
              "sqft_lot15     0.082456  0.029244  ...    1.000000 -0.070958\n",
              "age           -0.053982 -0.154178  ...   -0.070958  1.000000\n",
              "\n",
              "[14 rows x 14 columns]"
            ]
          },
          "metadata": {
            "tags": []
          },
          "execution_count": 15
        }
      ]
    },
    {
      "cell_type": "code",
      "metadata": {
        "colab": {
          "base_uri": "https://localhost:8080/",
          "height": 333
        },
        "id": "SK2FazyOpThH",
        "outputId": "d83d7042-4a57-4d8c-ec6a-15c33a7af997"
      },
      "source": [
        "sns.heatmap(df.corr(), annot=True, cmap='YlGnBu');"
      ],
      "execution_count": 16,
      "outputs": [
        {
          "output_type": "display_data",
          "data": {
            "image/png": "[encoded data removed]",
            "text/plain": [
              "<Figure size 432x288 with 2 Axes>"
            ]
          },
          "metadata": {
            "tags": [],
            "needs_background": "light"
          }
        }
      ]
    },
    {
      "cell_type": "markdown",
      "metadata": {
        "id": "C-DeoRGnjIUz"
      },
      "source": [
        "DATA ANALYSIS"
      ]
    },
    {
      "cell_type": "code",
      "metadata": {
        "colab": {
          "base_uri": "https://localhost:8080/"
        },
        "id": "8ZwLMc5rixl-",
        "outputId": "3ed56db8-6317-481a-d564-5adb5ed6f06e"
      },
      "source": [
        "# Detailed statistics including range, quartile, kurtosis and skewness\n",
        "col_names = ['price','bathrooms','sqft_living','sqft_lot','grade','sqft_living15']\n",
        "for i, col_val in enumerate(col_names):\n",
        "    print(\"Mean:\", df[col_val].mean())\n",
        "    print(\"Median:\", df[col_val].median())\n",
        "    print(\"Mode:\", df[col_val].mode())\n",
        "    print(\"SD:\", df[col_val].std())\n",
        "    print(\"Variance:\", df[col_val].var())\n",
        "    # print(\"Range:\", col_val_max - col_val_min)\n",
        "    print(\"Quartiles:\", df[col_val].quantile([0.25,0.5,0.75]))\n",
        "    print(\"Skewness:\", df[col_val].skew())\n",
        "    print(\"Kurtosis:\", df[col_val].kurt())\n",
        "    print(\"\\n\")"
      ],
      "execution_count": 70,
      "outputs": [
        {
          "output_type": "stream",
          "text": [
            "Mean: 540182.1587933188\n",
            "Median: 450000.0\n",
            "Mode: 0    350000.0\n",
            "1    450000.0\n",
            "dtype: float64\n",
            "SD: 367362.23171800975\n",
            "Variance: 134955009292.83669\n",
            "Quartiles: 0.25    321950.0\n",
            "0.50    450000.0\n",
            "0.75    645000.0\n",
            "Name: price, dtype: float64\n",
            "Skewness: 4.021715573048684\n",
            "Kurtosis: 34.522444410072566\n",
            "\n",
            "\n",
            "Mean: 2.1147573219821405\n",
            "Median: 2.25\n",
            "Mode: 0    2.5\n",
            "dtype: float64\n",
            "SD: 0.7701631572177287\n",
            "Variance: 0.5931512887355798\n",
            "Quartiles: 0.25    1.75\n",
            "0.50    2.25\n",
            "0.75    2.50\n",
            "Name: bathrooms, dtype: float64\n",
            "Skewness: 0.5111075733474171\n",
            "Kurtosis: 1.2799024441754554\n",
            "\n",
            "\n",
            "Mean: 2079.8997362698374\n",
            "Median: 1910.0\n",
            "Mode: 0    1300\n",
            "dtype: int64\n",
            "SD: 918.4408970468115\n",
            "Variance: 843533.6813681518\n",
            "Quartiles: 0.25    1427.0\n",
            "0.50    1910.0\n",
            "0.75    2550.0\n",
            "Name: sqft_living, dtype: float64\n",
            "Skewness: 1.471555426802092\n",
            "Kurtosis: 5.24309298981711\n",
            "\n",
            "\n",
            "Mean: 15106.967565816869\n",
            "Median: 7618.0\n",
            "Mode: 0    5000\n",
            "dtype: int64\n",
            "SD: 41420.51151513548\n",
            "Variance: 1715658774.1754704\n",
            "Quartiles: 0.25     5040.0\n",
            "0.50     7618.0\n",
            "0.75    10688.0\n",
            "Name: sqft_lot, dtype: float64\n",
            "Skewness: 13.060018959031755\n",
            "Kurtosis: 285.0778196973658\n",
            "\n",
            "\n",
            "Mean: 7.656873178179799\n",
            "Median: 7.0\n",
            "Mode: 0    7\n",
            "dtype: int64\n",
            "SD: 1.175458756974335\n",
            "Variance: 1.3817032893476489\n",
            "Quartiles: 0.25    7.0\n",
            "0.50    7.0\n",
            "0.75    8.0\n",
            "Name: grade, dtype: float64\n",
            "Skewness: 0.7711032007576067\n",
            "Kurtosis: 1.1909320773987657\n",
            "\n",
            "\n",
            "Mean: 1986.552491556008\n",
            "Median: 1840.0\n",
            "Mode: 0    1540\n",
            "dtype: int64\n",
            "SD: 685.3913042527776\n",
            "Variance: 469761.23994532344\n",
            "Quartiles: 0.25    1490.0\n",
            "0.50    1840.0\n",
            "0.75    2360.0\n",
            "Name: sqft_living15, dtype: float64\n",
            "Skewness: 1.1081812758966967\n",
            "Kurtosis: 1.5970958104616884\n",
            "\n",
            "\n"
          ],
          "name": "stdout"
        }
      ]
    },
    {
      "cell_type": "code",
      "metadata": {
        "colab": {
          "base_uri": "https://localhost:8080/",
          "height": 1000
        },
        "id": "q39l8fzqjPnn",
        "outputId": "28bc7db7-496c-4146-c87c-1001f1d6e66a"
      },
      "source": [
        "# Plotting distribution of numerical variables\n",
        "col_names = ['price','bathrooms','sqft_living','sqft_lot','grade','sqft_living15']\n",
        "fig, ax = plt.subplots(len(col_names), figsize=(10,17))\n",
        "\n",
        "for i, col_val in enumerate(col_names):\n",
        "\n",
        "    sns.distplot(df[col_val], hist=True, ax=ax[i])\n",
        "    ax[i].set_title('Frequency distribution of '+col_val, fontsize=10)\n",
        "    ax[i].set_xlabel(col_val, fontsize=8)\n",
        "    ax[i].set_ylabel('Count', fontsize=8)\n",
        "    \n",
        "plt.tight_layout()\n",
        "plt.show()"
      ],
      "execution_count": 71,
      "outputs": [
        {
          "output_type": "display_data",
          "data": {
            "image/png": "[encoded data removed]",
            "text/plain": [
              "<Figure size 720x1224 with 6 Axes>"
            ]
          },
          "metadata": {
            "tags": [],
            "needs_background": "light"
          }
        }
      ]
    },
    {
      "cell_type": "markdown",
      "metadata": {
        "id": "VDCpSeGoIxPl"
      },
      "source": [
        "Checking for multicollinearity"
      ]
    },
    {
      "cell_type": "code",
      "metadata": {
        "colab": {
          "base_uri": "https://localhost:8080/",
          "height": 894
        },
        "id": "ZwMHsvAgI04m",
        "outputId": "630adccf-5512-4530-f190-90e1f64e02c5"
      },
      "source": [
        "# Multicollinearity & VIF checks\n",
        "\n",
        "corr = df.corr()\n",
        "print ('Correlation matrix')\n",
        "print ('....')\n",
        "print(corr)\n",
        "\n",
        "print ('VIF matrix')\n",
        "print ('....')\n",
        "pd.DataFrame(np.linalg.inv(df.corr().values), index = corr.index, columns=corr.columns)"
      ],
      "execution_count": 17,
      "outputs": [
        {
          "output_type": "stream",
          "text": [
            "Correlation matrix\n",
            "....\n",
            "                  price  bedrooms  ...  sqft_lot15       age\n",
            "price          1.000000  0.308338  ...    0.082456 -0.053982\n",
            "bedrooms       0.308338  1.000000  ...    0.029244 -0.154178\n",
            "bathrooms      0.525134  0.515884  ...    0.087175 -0.506019\n",
            "sqft_living    0.702044  0.576671  ...    0.183286 -0.318049\n",
            "sqft_lot       0.089655  0.031703  ...    0.718557 -0.053080\n",
            "floors         0.256786  0.175429  ...   -0.011269 -0.489319\n",
            "waterfront     0.266331 -0.006582  ...    0.030703  0.026161\n",
            "condition      0.036392  0.028472  ...   -0.003406  0.361417\n",
            "grade          0.667463  0.356967  ...    0.119248 -0.446963\n",
            "sqft_above     0.605566  0.477600  ...    0.194050 -0.423898\n",
            "sqft_basement  0.323837  0.303093  ...    0.017276  0.133124\n",
            "sqft_living15  0.585374  0.391638  ...    0.183192 -0.326229\n",
            "sqft_lot15     0.082456  0.029244  ...    1.000000 -0.070958\n",
            "age           -0.053982 -0.154178  ...   -0.070958  1.000000\n",
            "\n",
            "[14 rows x 14 columns]\n",
            "VIF matrix\n",
            "....\n"
          ],
          "name": "stdout"
        },
        {
          "output_type": "execute_result",
          "data": {
            "text/html": [
              "<div>\n",
              "<style scoped>\n",
              "    .dataframe tbody tr th:only-of-type {\n",
              "        vertical-align: middle;\n",
              "    }\n",
              "\n",
              "    .dataframe tbody tr th {\n",
              "        vertical-align: top;\n",
              "    }\n",
              "\n",
              "    .dataframe thead th {\n",
              "        text-align: right;\n",
              "    }\n",
              "</style>\n",
              "<table border=\"1\" class=\"dataframe\">\n",
              "  <thead>\n",
              "    <tr style=\"text-align: right;\">\n",
              "      <th></th>\n",
              "      <th>price</th>\n",
              "      <th>bedrooms</th>\n",
              "      <th>bathrooms</th>\n",
              "      <th>sqft_living</th>\n",
              "      <th>sqft_lot</th>\n",
              "      <th>floors</th>\n",
              "      <th>waterfront</th>\n",
              "      <th>condition</th>\n",
              "      <th>grade</th>\n",
              "      <th>sqft_above</th>\n",
              "      <th>sqft_basement</th>\n",
              "      <th>sqft_living15</th>\n",
              "      <th>sqft_lot15</th>\n",
              "      <th>age</th>\n",
              "    </tr>\n",
              "  </thead>\n",
              "  <tbody>\n",
              "    <tr>\n",
              "      <th>price</th>\n",
              "      <td>2.839398</td>\n",
              "      <td>0.305614</td>\n",
              "      <td>-0.288079</td>\n",
              "      <td>-9.742462e-01</td>\n",
              "      <td>-0.008511</td>\n",
              "      <td>-0.125767</td>\n",
              "      <td>-0.479952</td>\n",
              "      <td>-0.093333</td>\n",
              "      <td>-1.123802</td>\n",
              "      <td>-1.456582e-01</td>\n",
              "      <td>-1.546561e-01</td>\n",
              "      <td>-0.177676</td>\n",
              "      <td>0.115490</td>\n",
              "      <td>-0.863605</td>\n",
              "    </tr>\n",
              "    <tr>\n",
              "      <th>bedrooms</th>\n",
              "      <td>0.305614</td>\n",
              "      <td>1.665622</td>\n",
              "      <td>-0.478923</td>\n",
              "      <td>-2.513373e-01</td>\n",
              "      <td>0.047612</td>\n",
              "      <td>0.064442</td>\n",
              "      <td>0.053985</td>\n",
              "      <td>-0.081675</td>\n",
              "      <td>0.222468</td>\n",
              "      <td>-7.728490e-01</td>\n",
              "      <td>-3.961712e-01</td>\n",
              "      <td>0.012775</td>\n",
              "      <td>0.095523</td>\n",
              "      <td>-0.151044</td>\n",
              "    </tr>\n",
              "    <tr>\n",
              "      <th>bathrooms</th>\n",
              "      <td>-0.288079</td>\n",
              "      <td>-0.478923</td>\n",
              "      <td>3.317637</td>\n",
              "      <td>-4.957097e+00</td>\n",
              "      <td>-0.017253</td>\n",
              "      <td>-0.683796</td>\n",
              "      <td>0.026689</td>\n",
              "      <td>-0.083110</td>\n",
              "      <td>-0.189668</td>\n",
              "      <td>3.311315e+00</td>\n",
              "      <td>1.358200e+00</td>\n",
              "      <td>0.122440</td>\n",
              "      <td>0.057993</td>\n",
              "      <td>0.888584</td>\n",
              "    </tr>\n",
              "    <tr>\n",
              "      <th>sqft_living</th>\n",
              "      <td>-0.972218</td>\n",
              "      <td>-0.249078</td>\n",
              "      <td>-4.955468</td>\n",
              "      <td>-3.362747e+13</td>\n",
              "      <td>-0.147884</td>\n",
              "      <td>0.526706</td>\n",
              "      <td>0.409867</td>\n",
              "      <td>-0.327057</td>\n",
              "      <td>-0.460236</td>\n",
              "      <td>3.031943e+13</td>\n",
              "      <td>1.620428e+13</td>\n",
              "      <td>-1.044715</td>\n",
              "      <td>-0.230529</td>\n",
              "      <td>-1.440280</td>\n",
              "    </tr>\n",
              "    <tr>\n",
              "      <th>sqft_lot</th>\n",
              "      <td>-0.008511</td>\n",
              "      <td>0.047612</td>\n",
              "      <td>-0.017253</td>\n",
              "      <td>-1.472521e-01</td>\n",
              "      <td>2.086116</td>\n",
              "      <td>0.072889</td>\n",
              "      <td>0.012170</td>\n",
              "      <td>0.017231</td>\n",
              "      <td>-0.009184</td>\n",
              "      <td>-9.751496e-02</td>\n",
              "      <td>4.119263e-02</td>\n",
              "      <td>0.117280</td>\n",
              "      <td>-1.474720</td>\n",
              "      <td>-0.026145</td>\n",
              "    </tr>\n",
              "    <tr>\n",
              "      <th>floors</th>\n",
              "      <td>-0.125767</td>\n",
              "      <td>0.064442</td>\n",
              "      <td>-0.683796</td>\n",
              "      <td>5.186286e-01</td>\n",
              "      <td>0.072889</td>\n",
              "      <td>1.931614</td>\n",
              "      <td>-0.008752</td>\n",
              "      <td>0.146545</td>\n",
              "      <td>-0.287658</td>\n",
              "      <td>-8.586082e-01</td>\n",
              "      <td>3.273394e-01</td>\n",
              "      <td>0.358424</td>\n",
              "      <td>0.094497</td>\n",
              "      <td>0.305809</td>\n",
              "    </tr>\n",
              "    <tr>\n",
              "      <th>waterfront</th>\n",
              "      <td>-0.479952</td>\n",
              "      <td>0.053985</td>\n",
              "      <td>0.026689</td>\n",
              "      <td>4.098512e-01</td>\n",
              "      <td>0.012170</td>\n",
              "      <td>-0.008752</td>\n",
              "      <td>1.105607</td>\n",
              "      <td>0.010993</td>\n",
              "      <td>0.170049</td>\n",
              "      <td>-2.914747e-01</td>\n",
              "      <td>-1.917705e-01</td>\n",
              "      <td>-0.000769</td>\n",
              "      <td>-0.037878</td>\n",
              "      <td>0.064799</td>\n",
              "    </tr>\n",
              "    <tr>\n",
              "      <th>condition</th>\n",
              "      <td>-0.093333</td>\n",
              "      <td>-0.081675</td>\n",
              "      <td>-0.083110</td>\n",
              "      <td>-3.260437e-01</td>\n",
              "      <td>0.017231</td>\n",
              "      <td>0.146545</td>\n",
              "      <td>0.010993</td>\n",
              "      <td>1.191540</td>\n",
              "      <td>0.027126</td>\n",
              "      <td>3.635271e-01</td>\n",
              "      <td>1.053753e-01</td>\n",
              "      <td>0.028513</td>\n",
              "      <td>-0.036474</td>\n",
              "      <td>-0.362802</td>\n",
              "    </tr>\n",
              "    <tr>\n",
              "      <th>grade</th>\n",
              "      <td>-1.123802</td>\n",
              "      <td>0.222468</td>\n",
              "      <td>-0.189668</td>\n",
              "      <td>-4.711166e-01</td>\n",
              "      <td>-0.009184</td>\n",
              "      <td>-0.287658</td>\n",
              "      <td>0.170049</td>\n",
              "      <td>0.027126</td>\n",
              "      <td>3.653416</td>\n",
              "      <td>-6.484502e-01</td>\n",
              "      <td>-1.181836e-01</td>\n",
              "      <td>-0.790466</td>\n",
              "      <td>0.073381</td>\n",
              "      <td>0.693670</td>\n",
              "    </tr>\n",
              "    <tr>\n",
              "      <th>sqft_above</th>\n",
              "      <td>-0.145347</td>\n",
              "      <td>-0.773983</td>\n",
              "      <td>3.309427</td>\n",
              "      <td>3.031943e+13</td>\n",
              "      <td>-0.096936</td>\n",
              "      <td>-0.865938</td>\n",
              "      <td>-0.291439</td>\n",
              "      <td>0.364384</td>\n",
              "      <td>-0.657632</td>\n",
              "      <td>-2.733681e+13</td>\n",
              "      <td>-1.461022e+13</td>\n",
              "      <td>-0.594978</td>\n",
              "      <td>-0.048203</td>\n",
              "      <td>1.260288</td>\n",
              "    </tr>\n",
              "    <tr>\n",
              "      <th>sqft_basement</th>\n",
              "      <td>-0.153012</td>\n",
              "      <td>-0.396336</td>\n",
              "      <td>1.357432</td>\n",
              "      <td>1.620428e+13</td>\n",
              "      <td>0.041568</td>\n",
              "      <td>0.324085</td>\n",
              "      <td>-0.191759</td>\n",
              "      <td>0.105827</td>\n",
              "      <td>-0.123023</td>\n",
              "      <td>-1.461022e+13</td>\n",
              "      <td>-7.808463e+12</td>\n",
              "      <td>0.081317</td>\n",
              "      <td>0.047898</td>\n",
              "      <td>0.475333</td>\n",
              "    </tr>\n",
              "    <tr>\n",
              "      <th>sqft_living15</th>\n",
              "      <td>-0.177676</td>\n",
              "      <td>0.012775</td>\n",
              "      <td>0.122440</td>\n",
              "      <td>-1.050159e+00</td>\n",
              "      <td>0.117280</td>\n",
              "      <td>0.358424</td>\n",
              "      <td>-0.000769</td>\n",
              "      <td>0.028513</td>\n",
              "      <td>-0.790466</td>\n",
              "      <td>-5.900697e-01</td>\n",
              "      <td>8.394005e-02</td>\n",
              "      <td>2.775169</td>\n",
              "      <td>-0.173034</td>\n",
              "      <td>0.170107</td>\n",
              "    </tr>\n",
              "    <tr>\n",
              "      <th>sqft_lot15</th>\n",
              "      <td>0.115490</td>\n",
              "      <td>0.095523</td>\n",
              "      <td>0.057993</td>\n",
              "      <td>-2.325978e-01</td>\n",
              "      <td>-1.474720</td>\n",
              "      <td>0.094497</td>\n",
              "      <td>-0.037878</td>\n",
              "      <td>-0.036474</td>\n",
              "      <td>0.073381</td>\n",
              "      <td>-4.633705e-02</td>\n",
              "      <td>4.889509e-02</td>\n",
              "      <td>-0.173034</td>\n",
              "      <td>2.122333</td>\n",
              "      <td>0.059259</td>\n",
              "    </tr>\n",
              "    <tr>\n",
              "      <th>age</th>\n",
              "      <td>-0.863605</td>\n",
              "      <td>-0.151044</td>\n",
              "      <td>0.888584</td>\n",
              "      <td>-1.447250e+00</td>\n",
              "      <td>-0.026145</td>\n",
              "      <td>0.305809</td>\n",
              "      <td>0.064799</td>\n",
              "      <td>-0.362802</td>\n",
              "      <td>0.693670</td>\n",
              "      <td>1.266572e+00</td>\n",
              "      <td>4.786911e-01</td>\n",
              "      <td>0.170107</td>\n",
              "      <td>0.059259</td>\n",
              "      <td>2.040032</td>\n",
              "    </tr>\n",
              "  </tbody>\n",
              "</table>\n",
              "</div>"
            ],
            "text/plain": [
              "                  price  bedrooms  ...  sqft_lot15       age\n",
              "price          2.839398  0.305614  ...    0.115490 -0.863605\n",
              "bedrooms       0.305614  1.665622  ...    0.095523 -0.151044\n",
              "bathrooms     -0.288079 -0.478923  ...    0.057993  0.888584\n",
              "sqft_living   -0.972218 -0.249078  ...   -0.230529 -1.440280\n",
              "sqft_lot      -0.008511  0.047612  ...   -1.474720 -0.026145\n",
              "floors        -0.125767  0.064442  ...    0.094497  0.305809\n",
              "waterfront    -0.479952  0.053985  ...   -0.037878  0.064799\n",
              "condition     -0.093333 -0.081675  ...   -0.036474 -0.362802\n",
              "grade         -1.123802  0.222468  ...    0.073381  0.693670\n",
              "sqft_above    -0.145347 -0.773983  ...   -0.048203  1.260288\n",
              "sqft_basement -0.153012 -0.396336  ...    0.047898  0.475333\n",
              "sqft_living15 -0.177676  0.012775  ...   -0.173034  0.170107\n",
              "sqft_lot15     0.115490  0.095523  ...    2.122333  0.059259\n",
              "age           -0.863605 -0.151044  ...    0.059259  2.040032\n",
              "\n",
              "[14 rows x 14 columns]"
            ]
          },
          "metadata": {
            "tags": []
          },
          "execution_count": 17
        }
      ]
    },
    {
      "cell_type": "markdown",
      "metadata": {
        "id": "1QVwdpzTJLlb"
      },
      "source": [
        "From the multicollinearity analysis we can see that our correlation falls between 0-5 which shows that our data is not highly correlated. This is a good thing because our independent variables are not highly correlated. This makes the our data reliable. "
      ]
    },
    {
      "cell_type": "markdown",
      "metadata": {
        "id": "D8teCiKTfnKL"
      },
      "source": [
        "MULTIPLE LINEAR REGRESSION"
      ]
    },
    {
      "cell_type": "code",
      "metadata": {
        "id": "Ah5wxxbXftEH"
      },
      "source": [
        "# we will start by defining our x and y values\n",
        "X=df[['bedrooms','bathrooms','sqft_living','sqft_lot','floors','waterfront','condition','grade','sqft_above','sqft_basement' \t\n",
        "      ,'sqft_living15','sqft_lot15','age']]\n",
        "y=df['price']"
      ],
      "execution_count": null,
      "outputs": []
    },
    {
      "cell_type": "code",
      "metadata": {
        "colab": {
          "base_uri": "https://localhost:8080/"
        },
        "id": "RVFhoO9ofwJJ",
        "outputId": "e43ef0c1-1d12-4503-c48d-79f4bc9fa2f5"
      },
      "source": [
        "regressor=LinearRegression()\n",
        "regressor.fit(X_train,y_train)\n",
        "regressor.fit(X_test,y_test)\n",
        "y_pred=regressor.predict(X_test)\n",
        "print(y_pred)\n",
        "print('*******************************************************************')\n",
        "print(regressor.coef_)\n",
        "print('*******************************************************************')\n",
        "print(regressor.intercept_)"
      ],
      "execution_count": 68,
      "outputs": [
        {
          "output_type": "stream",
          "text": [
            "[ 469014.10281373  697086.21508134 -526239.57527411 ... 1110794.86165383\n",
            "  412479.08963603  539600.84687272]\n",
            "*******************************************************************\n",
            "[-4.86928331e+04  6.48590323e+04  1.37044598e+02  1.95010673e-01\n",
            "  4.67150011e+04  8.19085249e+05  9.83831686e+03  1.08453592e+05\n",
            "  5.09456998e+01  8.60988975e+01  1.47607625e+01 -7.00112436e-01\n",
            "  4.33406743e+03]\n",
            "*******************************************************************\n",
            "-1004791.2293708092\n"
          ],
          "name": "stdout"
        }
      ]
    },
    {
      "cell_type": "markdown",
      "metadata": {
        "id": "xiI_c06SUoYl"
      },
      "source": [
        "Quantiles Regression and Linear Regression"
      ]
    },
    {
      "cell_type": "code",
      "metadata": {
        "id": "kGRm_ePmUtce"
      },
      "source": [
        "# we will start by defining our x and y values\n",
        "X=df[['bedrooms','bathrooms','sqft_living','sqft_lot','floors','waterfront','condition','grade','sqft_above','sqft_basement' \t\n",
        "      ,'sqft_living15','sqft_lot15','age']]\n",
        "y=df['price']"
      ],
      "execution_count": null,
      "outputs": []
    },
    {
      "cell_type": "code",
      "metadata": {
        "colab": {
          "base_uri": "https://localhost:8080/"
        },
        "id": "GD1xO0kfU0Ja",
        "outputId": "33b09f6c-cc2d-45a2-887f-6c3d454f0a62"
      },
      "source": [
        "#We will start off with linear regression\n",
        "regressor=LinearRegression()\n",
        "regressor.fit(X,y)\n",
        "First_pred=(mean_squared_error(y_true=y,y_pred=regressor.predict(X)))\n",
        "print(First_pred)"
      ],
      "execution_count": 42,
      "outputs": [
        {
          "output_type": "stream",
          "text": [
            "47527250973.198616\n"
          ],
          "name": "stdout"
        }
      ]
    },
    {
      "cell_type": "code",
      "metadata": {
        "colab": {
          "base_uri": "https://localhost:8080/"
        },
        "id": "9VuGDwxaVKbz",
        "outputId": "40bce578-8e2c-4395-aeeb-a603b1d8bac7"
      },
      "source": [
        "#quartiles regression\n",
        "!pip install mlinsights\n"
      ],
      "execution_count": 43,
      "outputs": [
        {
          "output_type": "stream",
          "text": [
            "Collecting mlinsights\n",
            "\u001b[?25l  Downloading https://files.pythonhosted.org/packages/a1/37/873857591c109054628e7898cb1a2e91278b90926b6ed192f440e70317ce/mlinsights-0.3.549-cp37-cp37m-manylinux2014_x86_64.whl (2.0MB)\n",
            "\u001b[K     |████████████████████████████████| 2.0MB 5.2MB/s \n",
            "\u001b[?25hRequirement already satisfied: matplotlib in /usr/local/lib/python3.7/dist-packages (from mlinsights) (3.2.2)\n",
            "Requirement already satisfied: scipy in /usr/local/lib/python3.7/dist-packages (from mlinsights) (1.4.1)\n",
            "Collecting pandas-streaming\n",
            "  Downloading https://files.pythonhosted.org/packages/84/41/0660927512c2d8453d3cbe5a8484ad5da3aaf6bf1da1800341e2e268703e/pandas_streaming-0.2.175-py3-none-any.whl\n",
            "Requirement already satisfied: cython in /usr/local/lib/python3.7/dist-packages (from mlinsights) (0.29.22)\n",
            "Requirement already satisfied: scikit-learn>=0.22.1 in /usr/local/lib/python3.7/dist-packages (from mlinsights) (0.22.2.post1)\n",
            "Requirement already satisfied: pandas in /usr/local/lib/python3.7/dist-packages (from mlinsights) (1.1.5)\n",
            "Requirement already satisfied: numpy>=1.16 in /usr/local/lib/python3.7/dist-packages (from mlinsights) (1.19.5)\n",
            "Requirement already satisfied: kiwisolver>=1.0.1 in /usr/local/lib/python3.7/dist-packages (from matplotlib->mlinsights) (1.3.1)\n",
            "Requirement already satisfied: cycler>=0.10 in /usr/local/lib/python3.7/dist-packages (from matplotlib->mlinsights) (0.10.0)\n",
            "Requirement already satisfied: pyparsing!=2.0.4,!=2.1.2,!=2.1.6,>=2.0.1 in /usr/local/lib/python3.7/dist-packages (from matplotlib->mlinsights) (2.4.7)\n",
            "Requirement already satisfied: python-dateutil>=2.1 in /usr/local/lib/python3.7/dist-packages (from matplotlib->mlinsights) (2.8.1)\n",
            "Collecting ijson\n",
            "\u001b[?25l  Downloading https://files.pythonhosted.org/packages/b3/0c/e3b7bf52e23345d5f9a6a3ff6de0cad419c96491893ab60cbbe9161644a8/ijson-3.1.4-cp37-cp37m-manylinux2010_x86_64.whl (126kB)\n",
            "\u001b[K     |████████████████████████████████| 133kB 27.5MB/s \n",
            "\u001b[?25hRequirement already satisfied: joblib>=0.11 in /usr/local/lib/python3.7/dist-packages (from scikit-learn>=0.22.1->mlinsights) (1.0.1)\n",
            "Requirement already satisfied: pytz>=2017.2 in /usr/local/lib/python3.7/dist-packages (from pandas->mlinsights) (2018.9)\n",
            "Requirement already satisfied: six in /usr/local/lib/python3.7/dist-packages (from cycler>=0.10->matplotlib->mlinsights) (1.15.0)\n",
            "Installing collected packages: ijson, pandas-streaming, mlinsights\n",
            "Successfully installed ijson-3.1.4 mlinsights-0.3.549 pandas-streaming-0.2.175\n"
          ],
          "name": "stdout"
        }
      ]
    },
    {
      "cell_type": "code",
      "metadata": {
        "id": "QI-36Vq0XTnI"
      },
      "source": [
        "from mlinsights.mlmodel import QuantileLinearRegression\n",
        "# creting and object for quantile regression\n",
        "clq = QuantileLinearRegression()"
      ],
      "execution_count": 44,
      "outputs": []
    },
    {
      "cell_type": "code",
      "metadata": {
        "id": "g2eZrNIeXYzC"
      },
      "source": [
        "# fitting the model\n",
        "\n",
        "clq.fit(X_train, y_train)"
      ],
      "execution_count": null,
      "outputs": []
    },
    {
      "cell_type": "code",
      "metadata": {
        "colab": {
          "base_uri": "https://localhost:8080/"
        },
        "id": "rTrkWTJBXeSl",
        "outputId": "2d24164c-b886-41e0-99ea-7aadf4797723"
      },
      "source": [
        "clq = QuantileLinearRegression(verbose=True, max_iter=20)\n",
        "clq.fit(X_train, y_train)"
      ],
      "execution_count": 52,
      "outputs": [
        {
          "output_type": "stream",
          "text": [
            "[QuantileLinearRegression.fit] iter=1 error=2429620350.9400334\n",
            "[QuantileLinearRegression.fit] iter=2 error=2396958247.5980053\n",
            "[QuantileLinearRegression.fit] iter=3 error=2383374935.6759524\n",
            "[QuantileLinearRegression.fit] iter=4 error=2368702344.990824\n",
            "[QuantileLinearRegression.fit] iter=5 error=2357867621.194404\n",
            "[QuantileLinearRegression.fit] iter=6 error=2348516967.860114\n",
            "[QuantileLinearRegression.fit] iter=7 error=2341592933.589291\n",
            "[QuantileLinearRegression.fit] iter=8 error=2336499480.8283653\n",
            "[QuantileLinearRegression.fit] iter=9 error=2331532040.9334884\n",
            "[QuantileLinearRegression.fit] iter=10 error=2327755908.6418147\n",
            "[QuantileLinearRegression.fit] iter=11 error=2325608827.182585\n",
            "[QuantileLinearRegression.fit] iter=12 error=2323930586.2566786\n",
            "[QuantileLinearRegression.fit] iter=13 error=2322796227.1107388\n",
            "[QuantileLinearRegression.fit] iter=14 error=2321738472.619321\n",
            "[QuantileLinearRegression.fit] iter=15 error=2321067193.4492617\n",
            "[QuantileLinearRegression.fit] iter=16 error=2320418236.607101\n",
            "[QuantileLinearRegression.fit] iter=17 error=2319781384.476352\n",
            "[QuantileLinearRegression.fit] iter=18 error=2319516181.6671953\n",
            "[QuantileLinearRegression.fit] iter=19 error=2319218514.688512\n",
            "[QuantileLinearRegression.fit] iter=20 error=2319096035.203906\n"
          ],
          "name": "stdout"
        },
        {
          "output_type": "execute_result",
          "data": {
            "text/plain": [
              "QuantileLinearRegression(copy_X=True, delta=0.0001, fit_intercept=True,\n",
              "                         max_iter=20, n_jobs=1, normalize=False, quantile=0.5,\n",
              "                         verbose=True)"
            ]
          },
          "metadata": {
            "tags": []
          },
          "execution_count": 52
        }
      ]
    },
    {
      "cell_type": "code",
      "metadata": {
        "colab": {
          "base_uri": "https://localhost:8080/"
        },
        "id": "iO7snCf-XjRU",
        "outputId": "0baf5fc4-7e76-4f52-b5f0-0789a44ffcdd"
      },
      "source": [
        "clq.score(X_test, y_test)"
      ],
      "execution_count": 56,
      "outputs": [
        {
          "output_type": "execute_result",
          "data": {
            "text/plain": [
              "136320.18123407115"
            ]
          },
          "metadata": {
            "tags": []
          },
          "execution_count": 56
        }
      ]
    },
    {
      "cell_type": "markdown",
      "metadata": {
        "id": "7LQ9-eqHKNU5"
      },
      "source": [
        "RIDGE REGRESSION AND LINEAR REGRESSION"
      ]
    },
    {
      "cell_type": "code",
      "metadata": {
        "colab": {
          "base_uri": "https://localhost:8080/"
        },
        "id": "vQDUM0RdLI1M",
        "outputId": "4332b6b3-af19-4dce-d00f-e51cc589f35f"
      },
      "source": [
        "regressor=LinearRegression()\n",
        "regressor.fit(X,y)\n",
        "First_pred=(mean_squared_error(y_true=y,y_pred=regressor.predict(X)))\n",
        "print(First_pred)"
      ],
      "execution_count": 19,
      "outputs": [
        {
          "output_type": "stream",
          "text": [
            "47527250973.198616\n"
          ],
          "name": "stdout"
        }
      ]
    },
    {
      "cell_type": "markdown",
      "metadata": {
        "id": "Tr0C_qmrL_93"
      },
      "source": [
        "Ridge regression"
      ]
    },
    {
      "cell_type": "code",
      "metadata": {
        "id": "6hV-aJ0FMEa-"
      },
      "source": [
        "ridge=Ridge(normalize=True)\n",
        "search=GridSearchCV(estimator=ridge, param_grid={'alpha':np.logspace(-5,3,8)}, scoring='neg_mean_squared_error', n_jobs=1, iid='deprecated', refit=True, cv=10)"
      ],
      "execution_count": 20,
      "outputs": []
    },
    {
      "cell_type": "code",
      "metadata": {
        "colab": {
          "base_uri": "https://localhost:8080/"
        },
        "id": "-HAmF-uYNu5a",
        "outputId": "a2cf0171-80bc-4521-9ad0-e1460d8eed33"
      },
      "source": [
        "search.fit(X,y)\n"
      ],
      "execution_count": 21,
      "outputs": [
        {
          "output_type": "execute_result",
          "data": {
            "text/plain": [
              "GridSearchCV(cv=10, error_score=nan,\n",
              "             estimator=Ridge(alpha=1.0, copy_X=True, fit_intercept=True,\n",
              "                             max_iter=None, normalize=True, random_state=None,\n",
              "                             solver='auto', tol=0.001),\n",
              "             iid='deprecated', n_jobs=1,\n",
              "             param_grid={'alpha': array([1.00000000e-05, 1.38949549e-04, 1.93069773e-03, 2.68269580e-02,\n",
              "       3.72759372e-01, 5.17947468e+00, 7.19685673e+01, 1.00000000e+03])},\n",
              "             pre_dispatch='2*n_jobs', refit=True, return_train_score=False,\n",
              "             scoring='neg_mean_squared_error', verbose=0)"
            ]
          },
          "metadata": {
            "tags": []
          },
          "execution_count": 21
        }
      ]
    },
    {
      "cell_type": "code",
      "metadata": {
        "colab": {
          "base_uri": "https://localhost:8080/"
        },
        "id": "2jhTpfWXOCvk",
        "outputId": "dcff9475-ccd8-41d2-97ea-955d0c1bfa4c"
      },
      "source": [
        "search.best_params_"
      ],
      "execution_count": 22,
      "outputs": [
        {
          "output_type": "execute_result",
          "data": {
            "text/plain": [
              "{'alpha': 0.0019306977288832496}"
            ]
          },
          "metadata": {
            "tags": []
          },
          "execution_count": 22
        }
      ]
    },
    {
      "cell_type": "code",
      "metadata": {
        "colab": {
          "base_uri": "https://localhost:8080/"
        },
        "id": "yuMXTcU0OIx-",
        "outputId": "4932dd36-d1c3-4494-ea57-9475dfbbab02"
      },
      "source": [
        "#From running our code the best alpha value to use in our model is 0.0019\n",
        "{'alpha':0.0019}\n",
        "abs(search.best_score_)"
      ],
      "execution_count": 23,
      "outputs": [
        {
          "output_type": "execute_result",
          "data": {
            "text/plain": [
              "48181021215.781006"
            ]
          },
          "metadata": {
            "tags": []
          },
          "execution_count": 23
        }
      ]
    },
    {
      "cell_type": "code",
      "metadata": {
        "colab": {
          "base_uri": "https://localhost:8080/"
        },
        "id": "XdKXQUvnOhkk",
        "outputId": "9c44ddb3-4f59-40f3-ab72-682f66ea1e8f"
      },
      "source": [
        "#ridge part\n",
        "ridge=Ridge(normalize=True,alpha=0.0019)\n",
        "ridge.fit(X,y)\n",
        "second_pred=(mean_squared_error(y_true=y,y_pred=ridge.predict(X)))\n",
        "print(second_pred)\n"
      ],
      "execution_count": 24,
      "outputs": [
        {
          "output_type": "stream",
          "text": [
            "47527547851.01084\n"
          ],
          "name": "stdout"
        }
      ]
    },
    {
      "cell_type": "code",
      "metadata": {
        "colab": {
          "base_uri": "https://localhost:8080/"
        },
        "id": "pBUzDLQA5bkF",
        "outputId": "bfa49e1f-3311-43b1-b9c1-d88892d7acae"
      },
      "source": [
        "print(f'Ridge score : {ridge.score(X, y)}')"
      ],
      "execution_count": 25,
      "outputs": [
        {
          "output_type": "stream",
          "text": [
            "Ridge score : 0.6478104278769149\n"
          ],
          "name": "stdout"
        }
      ]
    },
    {
      "cell_type": "markdown",
      "metadata": {
        "id": "e9GyfZatQOH-"
      },
      "source": [
        "From the two results(I.e the linear regression and the ridge regression) there is no big differences in the outputs. We can therefore come into conclusion that the coefficient values are about the same and this means that the penalization made little difference with this dataset."
      ]
    },
    {
      "cell_type": "markdown",
      "metadata": {
        "id": "V5PK5gCdQsm8"
      },
      "source": [
        "LASSO REGRESSION AND LINEAR REGRESSION 2"
      ]
    },
    {
      "cell_type": "code",
      "metadata": {
        "colab": {
          "base_uri": "https://localhost:8080/"
        },
        "id": "46PZljVwQ5uY",
        "outputId": "341b0d26-56e7-426d-d16c-9b557d9586ce"
      },
      "source": [
        "regressor=LinearRegression()\n",
        "regressor.fit(X,y)\n",
        "First_pred=(mean_squared_error(y_true=y,y_pred=regressor.predict(X)))\n",
        "print(First_pred)"
      ],
      "execution_count": 26,
      "outputs": [
        {
          "output_type": "stream",
          "text": [
            "47527250973.198616\n"
          ],
          "name": "stdout"
        }
      ]
    },
    {
      "cell_type": "code",
      "metadata": {
        "id": "m-BDFJxIQ8Zc"
      },
      "source": [
        "#Lasso regression\n",
        "scaler=StandardScaler()\n",
        "scaler.fit(X,y)\n",
        "X=scaler.transform(X)"
      ],
      "execution_count": 27,
      "outputs": []
    },
    {
      "cell_type": "code",
      "metadata": {
        "colab": {
          "base_uri": "https://localhost:8080/"
        },
        "id": "SAyOuHzlS9_l",
        "outputId": "ef36fc49-6adc-4f18-8fa5-19d8e8ff1e3e"
      },
      "source": [
        "Lasso=linear_model.Lasso()\n",
        "Lasso.fit(X,y)"
      ],
      "execution_count": 28,
      "outputs": [
        {
          "output_type": "stream",
          "text": [
            "/usr/local/lib/python3.7/dist-packages/sklearn/linear_model/_coordinate_descent.py:476: ConvergenceWarning: Objective did not converge. You might want to increase the number of iterations. Duality gap: 31768690356740.875, tolerance: 291664766083.6765\n",
            "  positive)\n"
          ],
          "name": "stderr"
        },
        {
          "output_type": "execute_result",
          "data": {
            "text/plain": [
              "Lasso(alpha=1.0, copy_X=True, fit_intercept=True, max_iter=1000,\n",
              "      normalize=False, positive=False, precompute=False, random_state=None,\n",
              "      selection='cyclic', tol=0.0001, warm_start=False)"
            ]
          },
          "metadata": {
            "tags": []
          },
          "execution_count": 28
        }
      ]
    },
    {
      "cell_type": "code",
      "metadata": {
        "colab": {
          "base_uri": "https://localhost:8080/"
        },
        "id": "zgeinrD7UAym",
        "outputId": "5fea08c7-5774-4708-8a8d-a8c1a25febfc"
      },
      "source": [
        "print(\"Lasso score:\", Lasso.score(X, y)) \n",
        "print(\"Lasso MSE:\", mean_squared_error(y, Lasso.predict(X))) \n",
        "print(\"Lasso coef:\", Lasso.coef_) "
      ],
      "execution_count": 29,
      "outputs": [
        {
          "output_type": "stream",
          "text": [
            "Lasso score: 0.6478126275424021\n",
            "Lasso MSE: 47527251008.86963\n",
            "Lasso coef: [ -39538.4021894    37264.12403517  268784.49038601    1098.02884502\n",
            "   16271.06520899   62094.21053026   12074.12590651  145396.41699747\n",
            " -110122.25743493  -49108.43253138   22981.4032888   -14938.81662221\n",
            "  111728.25030549]\n"
          ],
          "name": "stdout"
        }
      ]
    },
    {
      "cell_type": "code",
      "metadata": {
        "colab": {
          "base_uri": "https://localhost:8080/"
        },
        "id": "h7UJa0q-UQXP",
        "outputId": "51799935-78c7-404b-92e1-ee953f42751a"
      },
      "source": [
        "#We can further split the data and employ the Lasso regression to see how the various models work\n",
        "warnings.filterwarnings(\"ignore\")\n",
        "\n",
        "X_train, X_test, y_train, y_test = train_test_split(X, y, test_size=0.25, random_state=101)\n",
        "parameters = {'alpha': np.concatenate((np.arange(0.1,2,0.1), np.arange(2, 5, 0.5), np.arange(5, 25, 1)))}\n",
        "\n",
        "linear = linear_model.LinearRegression()\n",
        "lasso = linear_model.Lasso() \n",
        "gridlasso = GridSearchCV(lasso, parameters, scoring ='r2') \n",
        "\n",
        "# Fitting models and print the best parameters, R-squared scores, MSE, and coefficients\n",
        "gridlasso.fit(X_train, y_train) \n",
        "linear.fit(X_train, y_train) \n",
        "print(\"lasso best parameters:\", gridlasso.best_params_) \n",
        "print(\"lasso score:\", gridlasso.score(X_test, y_test))\n",
        "print(\"linear score:\", linear.score(X_test, y_test)) \n",
        "print(\"lasso MSE:\", mean_squared_error(y_test, gridlasso.predict(X_test)))\n",
        "print(\"linear MSE:\", mean_squared_error(y_test, linear.predict(X_test))) \n",
        "print(\"lasso best estimator coef:\", gridlasso.best_estimator_.coef_)\n",
        "print(\"linear coef:\", linear.coef_)"
      ],
      "execution_count": 30,
      "outputs": [
        {
          "output_type": "stream",
          "text": [
            "lasso best parameters: {'alpha': 24.0}\n",
            "lasso score: 0.6601853454811046\n",
            "linear score: 0.6601887874713079\n",
            "lasso MSE: 48242423792.872475\n",
            "linear MSE: 48241935144.287506\n",
            "lasso best estimator coef: [-40786.9080672   32303.57940746 214975.18271906   2174.9622381\n",
            "  18125.43900692  59183.7330454   13821.00910911 145657.86159059\n",
            " -60747.85128243 -23413.73802081  24263.68177281 -14949.27785736\n",
            " 110599.47173985]\n",
            "linear coef: [-40815.79682776  32465.69593515  77463.14045341   2245.31701631\n",
            "  18133.8062098   59200.33937458  13846.1816984  145612.34684662\n",
            "  63068.45518671  42747.32117084  24403.37144508 -15018.41372148\n",
            " 110661.60963647]\n"
          ],
          "name": "stdout"
        }
      ]
    },
    {
      "cell_type": "code",
      "metadata": {
        "colab": {
          "base_uri": "https://localhost:8080/",
          "height": 458
        },
        "id": "vnaBcT8c6-Rc",
        "outputId": "56b901f8-fcb0-465a-a441-cecb1a8d5f56"
      },
      "source": [
        "# Importing library for visualization\n",
        "#\n",
        "import matplotlib.pyplot as plt\n",
        "coefsLasso = [] \n",
        "\n",
        "# Building Lasso for 200 values of alpha and write the coefficients into array\n",
        "# \n",
        "alphasLasso = np.arange (0, 20, 0.1) \n",
        "for i in range(200):\n",
        "    lasso = linear_model.Lasso(alpha=alphasLasso[i])\n",
        "    lasso.fit(X_train, y_train)\n",
        "    coefsLasso.append(lasso.coef_) \n",
        "\n",
        "# Building Lasso coefficient plots\n",
        "# \n",
        "plt.figure(figsize = (16,7))\n",
        "\n",
        "plt.subplot(121)\n",
        "plt.plot(alphasLasso, coefsLasso)\n",
        "plt.title('Lasso coefficients')\n",
        "plt.xlabel('alpha')\n",
        "plt.ylabel('coefs')\n",
        "\n",
        "plt.show()"
      ],
      "execution_count": 31,
      "outputs": [
        {
          "output_type": "display_data",
          "data": {
            "image/png": "[encoded data removed]",
            "text/plain": [
              "<Figure size 1152x504 with 1 Axes>"
            ]
          },
          "metadata": {
            "tags": [],
            "needs_background": "light"
          }
        }
      ]
    },
    {
      "cell_type": "markdown",
      "metadata": {
        "id": "GfhwR1ZqY2FX"
      },
      "source": [
        "ELASTIC NET REGRESSION AND LINEAR REGRESSION"
      ]
    },
    {
      "cell_type": "code",
      "metadata": {
        "colab": {
          "base_uri": "https://localhost:8080/"
        },
        "id": "XRUfBEDIY72D",
        "outputId": "025c1d37-6058-41e9-9837-645d7470b97d"
      },
      "source": [
        "regressor=LinearRegression()\n",
        "regressor.fit(X,y)\n",
        "First_pred=(mean_squared_error(y_true=y,y_pred=regressor.predict(X)))\n",
        "print(First_pred)"
      ],
      "execution_count": 32,
      "outputs": [
        {
          "output_type": "stream",
          "text": [
            "47527250973.198616\n"
          ],
          "name": "stdout"
        }
      ]
    },
    {
      "cell_type": "markdown",
      "metadata": {
        "id": "kbkp-Vmr9tyu"
      },
      "source": [
        "ELASTIC NET REGRESSION"
      ]
    },
    {
      "cell_type": "code",
      "metadata": {
        "id": "3oXCwKAd9y-1"
      },
      "source": [
        "elastic=ElasticNet(normalize=True)\n",
        "search=GridSearchCV(estimator=elastic,param_grid={'alpha':np.logspace(-5,2,8),'l1_ratio':[.2,.4,.6,.8]},scoring='neg_mean_squared_error',n_jobs=1,refit=True,cv=10)"
      ],
      "execution_count": 33,
      "outputs": []
    },
    {
      "cell_type": "code",
      "metadata": {
        "colab": {
          "base_uri": "https://localhost:8080/"
        },
        "id": "0p5UitrPBxIe",
        "outputId": "5f1cf92b-48f4-40d4-c899-7beeabf75497"
      },
      "source": [
        "elastic=ElasticNet(normalize=True,alpha=0.0019,l1_ratio=0.75)\n",
        "elastic.fit(X_train,y_train)"
      ],
      "execution_count": 34,
      "outputs": [
        {
          "output_type": "execute_result",
          "data": {
            "text/plain": [
              "ElasticNet(alpha=0.0019, copy_X=True, fit_intercept=True, l1_ratio=0.75,\n",
              "           max_iter=1000, normalize=True, positive=False, precompute=False,\n",
              "           random_state=None, selection='cyclic', tol=0.0001, warm_start=False)"
            ]
          },
          "metadata": {
            "tags": []
          },
          "execution_count": 34
        }
      ]
    },
    {
      "cell_type": "code",
      "metadata": {
        "colab": {
          "base_uri": "https://localhost:8080/"
        },
        "id": "uvImWBSuCAat",
        "outputId": "c3bb52f3-caa5-4382-b8a7-333c21da1351"
      },
      "source": [
        "second_pred=(mean_squared_error(y_true=y,y_pred=elastic.predict(X)))\n",
        "print(second_pred)"
      ],
      "execution_count": 35,
      "outputs": [
        {
          "output_type": "stream",
          "text": [
            "93379828916.41707\n"
          ],
          "name": "stdout"
        }
      ]
    },
    {
      "cell_type": "code",
      "metadata": {
        "colab": {
          "base_uri": "https://localhost:8080/"
        },
        "id": "FYP_FcZWCDn9",
        "outputId": "e6a8ae29-9270-4cdd-ddbb-45212d281fdb"
      },
      "source": [
        "# Elastic net score \n",
        "\n",
        "elastic.score(X_test, y_test)\n",
        "# \n",
        "#The elastic score is 31.29 which is a bit poor. "
      ],
      "execution_count": 36,
      "outputs": [
        {
          "output_type": "execute_result",
          "data": {
            "text/plain": [
              "0.3129295496088934"
            ]
          },
          "metadata": {
            "tags": []
          },
          "execution_count": 36
        }
      ]
    },
    {
      "cell_type": "markdown",
      "metadata": {
        "id": "fxRlsNFceSvM"
      },
      "source": [
        "From our analysis above, we can see that the different regressions have different prediction success. However, from our data, we can see that Lasso and ridge regression prediction system was at around 64.78% in both while in elasting the prediction score was at around 31%. Thus, I would advise the company to utilize either the ridge or Lasso regression models as they seem to be having a high success rate compared to the other models when it comes to house prices prediction. "
      ]
    }
  ]
}